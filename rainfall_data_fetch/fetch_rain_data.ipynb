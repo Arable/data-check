{
 "cells": [
  {
   "cell_type": "code",
   "execution_count": 1,
   "id": "cf13f46b",
   "metadata": {},
   "outputs": [],
   "source": [
    "import boto3\n",
    "import json\n",
    "import pandas as pd\n",
    "import numpy as np\n",
    "from datetime import timedelta\n",
    "from sqlalchemy import create_engine\n",
    "# from timezonefinder import TimezoneFinder\n",
    "from IPython.display import display\n",
    "from tqdm import tqdm"
   ]
  },
  {
   "cell_type": "markdown",
   "id": "1c0ef7cc",
   "metadata": {},
   "source": [
    "### Connect to database"
   ]
  },
  {
   "cell_type": "code",
   "execution_count": 2,
   "id": "96bb4174",
   "metadata": {},
   "outputs": [],
   "source": [
    "#personal tocken\n",
    "dsn = dict(host='application-db-ro.prod.arable.cloud',\n",
    "           user='hong_tang',\n",
    "           password='9nzGhN0duGXy',\n",
    "           port='5432',\n",
    "           dbname='arable'\n",
    "          )\n",
    "sqlalchemy_dsn = 'postgresql://{user}:{password}@{host}:{port}/{dbname}'.format(**dsn)"
   ]
  },
  {
   "cell_type": "code",
   "execution_count": 3,
   "id": "9402d042",
   "metadata": {},
   "outputs": [],
   "source": [
    "def connect_db(dsn: str) -> str:\n",
    "    cnx = create_engine(dsn)\n",
    "\n",
    "    return cnx"
   ]
  },
  {
   "cell_type": "code",
   "execution_count": 4,
   "id": "a5d1ba81",
   "metadata": {},
   "outputs": [],
   "source": [
    "def read_dsd_raw(cnx, device, begin, end):\n",
    "    schema = 'dsd_raw'\n",
    "\n",
    "    query_template = \"\"\"\n",
    "select * from device_data.{schema} as dr\n",
    "-- select count(*) from device_data.{schema} as dr\n",
    "where dr.device = '{device}' and dr.time >= '{start}' and dr.time < '{end}';\n",
    "\"\"\"\n",
    "\n",
    "    sql_query = query_template.format(schema=schema, device=device, start=begin, end=end)\n",
    "\n",
    "    df = pd.read_sql_query(sql_query, cnx)\n",
    "\n",
    "    return df\n",
    "\n",
    "def read_raw(cnx, device, begin, end):\n",
    "    schema_raw = 'raw'\n",
    "    query_template_raw = \"\"\"\n",
    "select r.time, r.device, r.location, r.rh \n",
    "from device_data.{schema} as r\n",
    "where r.device = '{device}' and r.time >= '{start}' and r.time < '{end}';\n",
    "\"\"\"\n",
    "\n",
    "    sql_query = query_template_raw.format(schema=schema_raw, device=device, start=begin, end=end)\n",
    "\n",
    "    df = pd.read_sql_query(sql_query, cnx)\n",
    "\n",
    "    return df"
   ]
  },
  {
   "cell_type": "markdown",
   "id": "1a387de1",
   "metadata": {},
   "source": [
    "### Starting the engine"
   ]
  },
  {
   "cell_type": "code",
   "execution_count": 5,
   "id": "0074343f",
   "metadata": {},
   "outputs": [],
   "source": [
    "pg_conn = connect_db(sqlalchemy_dsn)"
   ]
  },
  {
   "cell_type": "code",
   "execution_count": 6,
   "id": "7e582c43",
   "metadata": {},
   "outputs": [],
   "source": [
    "device_list=[ 'C005252', 'C004146', 'C004146', 'C004231', 'C004301', 'C005182', 'C007852']\n",
    "#        'C007978', 'C007880', 'C003405', 'C003445', 'C003245', 'C004991',\n",
    "#        'C004183', 'C006338', 'C004894', 'C003655', 'C005042', 'C004299',\n",
    "#        'C005043', 'C004149', 'C004223', 'C005397', 'C004196', 'C006158',\n",
    "#        'C006171', 'C007399', 'C006126', 'C006163', 'C004988', 'C004830',\n",
    "#        'C003326', 'C005285', 'C003065', 'C003166', 'C003186', 'C003324',\n",
    "#        'C003359', 'C003427', 'C003496', 'C003497', 'C004174', 'C003276',\n",
    "#        'C005312', 'C005339', 'C005234', 'C004976', 'C003188', 'C003240',\n",
    "#        'C006164', 'C003251', 'C006123', 'C004200', 'C005288', 'C003017',\n",
    "#        'C004854', 'C006826', 'C003279', 'C003398', 'C005348', 'C003241',\n",
    "#        'C003388', 'C003791', 'C005484', 'C003231', 'C006160', 'C003015',\n",
    "#        'C005429', 'C005386'"
   ]
  },
  {
   "cell_type": "code",
   "execution_count": 7,
   "id": "94b2d42c",
   "metadata": {},
   "outputs": [],
   "source": [
    "def read_hourly(cnx, device, begin, end):\n",
    "    schema_raw = 'hourly'\n",
    "    query_template_raw = \"\"\"\n",
    "select h.time, h.device,  h.precip \n",
    "from device_data.{schema} as h\n",
    "where h.device = '{device}' and h.time >= '{start}' and h.time < '{end}';\n",
    "\"\"\"\n",
    "\n",
    "    sql_query = query_template_raw.format(schema=schema_raw, device=device, start=begin, end=end)\n",
    "#     print(sql_query)\n",
    "    df = pd.read_sql_query(sql_query, cnx)\n",
    "\n",
    "    return df\n",
    "#, h.precip_classifier_version, h.precip_version #h.location,"
   ]
  },
  {
   "cell_type": "code",
   "execution_count": 8,
   "id": "f71d7e41",
   "metadata": {},
   "outputs": [
    {
     "ename": "NameError",
     "evalue": "name 'df_final' is not defined",
     "output_type": "error",
     "traceback": [
      "\u001b[0;31m---------------------------------------------------------------------------\u001b[0m",
      "\u001b[0;31mNameError\u001b[0m                                 Traceback (most recent call last)",
      "\u001b[0;32m<ipython-input-8-aae4f4d29939>\u001b[0m in \u001b[0;36m<module>\u001b[0;34m\u001b[0m\n\u001b[0;32m----> 1\u001b[0;31m \u001b[0mlen\u001b[0m\u001b[0;34m(\u001b[0m\u001b[0mdf_final\u001b[0m\u001b[0;34m.\u001b[0m\u001b[0mdevice\u001b[0m\u001b[0;34m.\u001b[0m\u001b[0munique\u001b[0m\u001b[0;34m(\u001b[0m\u001b[0;34m)\u001b[0m\u001b[0;34m)\u001b[0m\u001b[0;34m,\u001b[0m \u001b[0mlen\u001b[0m\u001b[0;34m(\u001b[0m\u001b[0mdevice_list\u001b[0m\u001b[0;34m)\u001b[0m\u001b[0;34m\u001b[0m\u001b[0;34m\u001b[0m\u001b[0m\n\u001b[0m",
      "\u001b[0;31mNameError\u001b[0m: name 'df_final' is not defined"
     ]
    }
   ],
   "source": [
    "len(df_final.device.unique()), len(device_list)"
   ]
  },
  {
   "cell_type": "code",
   "execution_count": 9,
   "id": "118b37ee",
   "metadata": {},
   "outputs": [
    {
     "name": "stdout",
     "output_type": "stream",
     "text": [
      "CPU times: user 4 µs, sys: 1 µs, total: 5 µs\n",
      "Wall time: 8.82 µs\n",
      "C005252 2020-01-01 2022-05-24\n",
      "(12563, 3)\n",
      "C004146 2020-01-01 2022-05-24\n",
      "(4881, 3)\n",
      "C004146 2020-01-01 2022-05-24\n",
      "(4881, 3)\n",
      "C004231 2020-01-01 2022-05-24\n",
      "(8105, 3)\n",
      "C004301 2020-01-01 2022-05-24\n",
      "(8263, 3)\n",
      "C005182 2020-01-01 2022-05-24\n",
      "(4564, 3)\n",
      "C007852 2020-01-01 2022-05-24\n",
      "(7951, 3)\n"
     ]
    }
   ],
   "source": [
    "%time\n",
    "series = []\n",
    "df_final = pd.DataFrame()\n",
    "\n",
    "start='2020-01-01'\n",
    "end='2022-05-24'\n",
    "for device in device_list:\n",
    "    print(device, start, end)\n",
    "    \n",
    "    df_hourly = read_hourly(pg_conn, device, start, end)\n",
    "    print(df_hourly.shape)\n",
    "#     series.append(df_hourly)\n",
    "    if not df_hourly.empty:\n",
    "        \n",
    "        df_final=pd.concat([df_final, df_hourly])"
   ]
  },
  {
   "cell_type": "code",
   "execution_count": 10,
   "id": "ba247726",
   "metadata": {},
   "outputs": [
    {
     "data": {
      "text/html": [
       "<div>\n",
       "<style scoped>\n",
       "    .dataframe tbody tr th:only-of-type {\n",
       "        vertical-align: middle;\n",
       "    }\n",
       "\n",
       "    .dataframe tbody tr th {\n",
       "        vertical-align: top;\n",
       "    }\n",
       "\n",
       "    .dataframe thead th {\n",
       "        text-align: right;\n",
       "    }\n",
       "</style>\n",
       "<table border=\"1\" class=\"dataframe\">\n",
       "  <thead>\n",
       "    <tr style=\"text-align: right;\">\n",
       "      <th></th>\n",
       "      <th>time</th>\n",
       "      <th>device</th>\n",
       "      <th>precip</th>\n",
       "    </tr>\n",
       "  </thead>\n",
       "  <tbody>\n",
       "    <tr>\n",
       "      <th>7851</th>\n",
       "      <td>2021-08-29 08:00:00+00:00</td>\n",
       "      <td>C007852</td>\n",
       "      <td>0.37</td>\n",
       "    </tr>\n",
       "    <tr>\n",
       "      <th>7852</th>\n",
       "      <td>2022-04-02 16:00:00+00:00</td>\n",
       "      <td>C007852</td>\n",
       "      <td>0.23</td>\n",
       "    </tr>\n",
       "    <tr>\n",
       "      <th>7853</th>\n",
       "      <td>2021-08-08 21:00:00+00:00</td>\n",
       "      <td>C007852</td>\n",
       "      <td>0.00</td>\n",
       "    </tr>\n",
       "    <tr>\n",
       "      <th>7854</th>\n",
       "      <td>2021-08-08 23:00:00+00:00</td>\n",
       "      <td>C007852</td>\n",
       "      <td>0.00</td>\n",
       "    </tr>\n",
       "    <tr>\n",
       "      <th>7855</th>\n",
       "      <td>2021-12-09 22:00:00+00:00</td>\n",
       "      <td>C007852</td>\n",
       "      <td>0.00</td>\n",
       "    </tr>\n",
       "    <tr>\n",
       "      <th>...</th>\n",
       "      <td>...</td>\n",
       "      <td>...</td>\n",
       "      <td>...</td>\n",
       "    </tr>\n",
       "    <tr>\n",
       "      <th>7946</th>\n",
       "      <td>2022-04-14 16:00:00+00:00</td>\n",
       "      <td>C007852</td>\n",
       "      <td>0.00</td>\n",
       "    </tr>\n",
       "    <tr>\n",
       "      <th>7947</th>\n",
       "      <td>2021-08-31 05:00:00+00:00</td>\n",
       "      <td>C007852</td>\n",
       "      <td>0.01</td>\n",
       "    </tr>\n",
       "    <tr>\n",
       "      <th>7948</th>\n",
       "      <td>2021-08-31 16:00:00+00:00</td>\n",
       "      <td>C007852</td>\n",
       "      <td>0.00</td>\n",
       "    </tr>\n",
       "    <tr>\n",
       "      <th>7949</th>\n",
       "      <td>2021-08-31 15:00:00+00:00</td>\n",
       "      <td>C007852</td>\n",
       "      <td>0.00</td>\n",
       "    </tr>\n",
       "    <tr>\n",
       "      <th>7950</th>\n",
       "      <td>2021-08-31 06:00:00+00:00</td>\n",
       "      <td>C007852</td>\n",
       "      <td>0.05</td>\n",
       "    </tr>\n",
       "  </tbody>\n",
       "</table>\n",
       "<p>100 rows × 3 columns</p>\n",
       "</div>"
      ],
      "text/plain": [
       "                          time   device  precip\n",
       "7851 2021-08-29 08:00:00+00:00  C007852    0.37\n",
       "7852 2022-04-02 16:00:00+00:00  C007852    0.23\n",
       "7853 2021-08-08 21:00:00+00:00  C007852    0.00\n",
       "7854 2021-08-08 23:00:00+00:00  C007852    0.00\n",
       "7855 2021-12-09 22:00:00+00:00  C007852    0.00\n",
       "...                        ...      ...     ...\n",
       "7946 2022-04-14 16:00:00+00:00  C007852    0.00\n",
       "7947 2021-08-31 05:00:00+00:00  C007852    0.01\n",
       "7948 2021-08-31 16:00:00+00:00  C007852    0.00\n",
       "7949 2021-08-31 15:00:00+00:00  C007852    0.00\n",
       "7950 2021-08-31 06:00:00+00:00  C007852    0.05\n",
       "\n",
       "[100 rows x 3 columns]"
      ]
     },
     "execution_count": 10,
     "metadata": {},
     "output_type": "execute_result"
    }
   ],
   "source": [
    "df_final.tail(100)"
   ]
  },
  {
   "cell_type": "code",
   "execution_count": null,
   "id": "d1931d4f",
   "metadata": {},
   "outputs": [],
   "source": []
  }
 ],
 "metadata": {
  "kernelspec": {
   "display_name": "conda_python3",
   "language": "python",
   "name": "conda_python3"
  },
  "language_info": {
   "codemirror_mode": {
    "name": "ipython",
    "version": 3
   },
   "file_extension": ".py",
   "mimetype": "text/x-python",
   "name": "python",
   "nbconvert_exporter": "python",
   "pygments_lexer": "ipython3",
   "version": "3.6.13"
  },
  "toc-autonumbering": false
 },
 "nbformat": 4,
 "nbformat_minor": 5
}

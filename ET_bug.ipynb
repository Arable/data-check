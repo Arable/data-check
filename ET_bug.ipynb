{
 "cells": [
  {
   "cell_type": "code",
   "execution_count": 34,
   "id": "8862bf17",
   "metadata": {},
   "outputs": [],
   "source": [
    "import datetime as dt\n",
    "from datetime import datetime\n",
    "import sys\n",
    "import os\n",
    "import boto3\n",
    "import pandas as pd\n",
    "from boto3.session import Session\n",
    "\n",
    "from io import StringIO\n",
    "import numpy as np\n",
    "import shutil\n",
    "\n",
    "# declaring some constants\n",
    "bucket = 'arable-adse-dev'\n",
    "session = Session()\n",
    "client = session.client('s3')\n",
    "\n",
    "import json\n",
    "import psycopg2 as pg\n",
    "import pandas.io.sql as psql\n",
    "import warnings\n",
    "warnings.filterwarnings('ignore')\n",
    "\n",
    "\n",
    "## import library\n",
    "import datetime as dt\n",
    "\n",
    "import pandas as pd\n",
    "import plotly.graph_objects as go\n",
    "import plotly.express as px"
   ]
  },
  {
   "cell_type": "code",
   "execution_count": 35,
   "id": "e02756e1",
   "metadata": {},
   "outputs": [],
   "source": [
    "# get access to production data\n",
    "client = boto3.client('secretsmanager')\n",
    "response = client.get_secret_value(SecretId='alp-datasci')\n",
    "a = json.loads(response['SecretString'])\n",
    "\n",
    "def get_data_prod(query):\n",
    "    connection = pg.connect(user = a['alp_user'],\n",
    "                            password = a['alp_pword'],\n",
    "                            host = a['alp_host'],\n",
    "                            port = a['alp_port'],\n",
    "                            database = a['alp_db'])\n",
    "\n",
    "    df = psql.read_sql('''%s''' % (query), connection)\n",
    "\n",
    "    connection.close()\n",
    "    \n",
    "    return df\n",
    "\n",
    "\n",
    "client = boto3.client('secretsmanager')\n",
    "response = client.get_secret_value(SecretId='han-db')\n",
    "b = json.loads(response['SecretString'])\n",
    "\n",
    "def get_data_test(query):    \n",
    "    connection = pg.connect(user = b['user'],\n",
    "                            password = b['alt_pword'],\n",
    "                            host = b['alt_host'],\n",
    "                            port = b['alt_port'],\n",
    "                            database = b['alt_db'])\n",
    "\n",
    "    df = psql.read_sql('''%s''' % (query), connection)\n",
    "\n",
    "    connection.close()\n",
    "    \n",
    "    return df"
   ]
  },
  {
   "cell_type": "code",
   "execution_count": 36,
   "id": "3e9cf117",
   "metadata": {},
   "outputs": [
    {
     "name": "stdout",
     "output_type": "stream",
     "text": [
      "Populating the interactive namespace from numpy and matplotlib\n"
     ]
    }
   ],
   "source": [
    "from datetime import datetime\n",
    "import matplotlib.pyplot as plt\n",
    "plt.style.use('seaborn-whitegrid')\n",
    "import matplotlib.lines as mlines\n",
    "import matplotlib.transforms as mtransforms\n",
    "from matplotlib.dates import DateFormatter\n",
    "%matplotlib inline\n",
    "%pylab inline\n",
    "import matplotlib.pyplot as plt\n",
    "matplotlib.rcParams.update({'font.size': 16})\n",
    "pylab.rcParams['figure.figsize'] = (15, 8)\n",
    "pylab.rcParams['agg.path.chunksize'] = 10000\n",
    "import plotly.graph_objects as go"
   ]
  },
  {
   "cell_type": "code",
   "execution_count": 37,
   "id": "0315a0d3",
   "metadata": {},
   "outputs": [],
   "source": [
    "## ET Bug check\n",
    "\n",
    "device = 'C006338'\n",
    "start = '2022-03-31'\n",
    "end = '2022-07-23'"
   ]
  },
  {
   "cell_type": "code",
   "execution_count": 5,
   "id": "581bc991",
   "metadata": {},
   "outputs": [],
   "source": [
    "mark_5min = get_data_prod(f\"\"\"\n",
    "        select c.*\n",
    "        from device_data.calibrated c\n",
    "        where c.device = '{device}'\n",
    "        and time >= '{start}'\n",
    "        and time <= '{end}'\n",
    "        \"\"\")"
   ]
  },
  {
   "cell_type": "code",
   "execution_count": 38,
   "id": "65d2805b",
   "metadata": {},
   "outputs": [],
   "source": [
    "## hourly data\n",
    "hourly = get_data_prod(f\"\"\"\n",
    "        select *\n",
    "        from device_data.hourly\n",
    "        where device = '{device}'\n",
    "        and time >= '{start}'\n",
    "        and time <= '{end}'\n",
    "        \"\"\")"
   ]
  },
  {
   "cell_type": "code",
   "execution_count": 39,
   "id": "d1435e7b",
   "metadata": {},
   "outputs": [
    {
     "data": {
      "text/html": [
       "<div>\n",
       "<style scoped>\n",
       "    .dataframe tbody tr th:only-of-type {\n",
       "        vertical-align: middle;\n",
       "    }\n",
       "\n",
       "    .dataframe tbody tr th {\n",
       "        vertical-align: top;\n",
       "    }\n",
       "\n",
       "    .dataframe thead th {\n",
       "        text-align: right;\n",
       "    }\n",
       "</style>\n",
       "<table border=\"1\" class=\"dataframe\">\n",
       "  <thead>\n",
       "    <tr style=\"text-align: right;\">\n",
       "      <th></th>\n",
       "      <th>time</th>\n",
       "      <th>lat</th>\n",
       "      <th>long</th>\n",
       "      <th>swdw</th>\n",
       "      <th>device</th>\n",
       "      <th>et</th>\n",
       "      <th>etc</th>\n",
       "      <th>tair</th>\n",
       "      <th>et_version</th>\n",
       "    </tr>\n",
       "  </thead>\n",
       "  <tbody>\n",
       "    <tr>\n",
       "      <th>0</th>\n",
       "      <td>2022-03-31 00:00:00+00:00</td>\n",
       "      <td>38.86075</td>\n",
       "      <td>-6.66639</td>\n",
       "      <td>0.905836</td>\n",
       "      <td>C006338</td>\n",
       "      <td>NaN</td>\n",
       "      <td>NaN</td>\n",
       "      <td>10.598426</td>\n",
       "      <td>backup: penman-monteith</td>\n",
       "    </tr>\n",
       "    <tr>\n",
       "      <th>1</th>\n",
       "      <td>2022-03-31 01:00:00+00:00</td>\n",
       "      <td>38.86075</td>\n",
       "      <td>-6.66639</td>\n",
       "      <td>0.843358</td>\n",
       "      <td>C006338</td>\n",
       "      <td>NaN</td>\n",
       "      <td>NaN</td>\n",
       "      <td>9.771309</td>\n",
       "      <td>backup: penman-monteith</td>\n",
       "    </tr>\n",
       "    <tr>\n",
       "      <th>2</th>\n",
       "      <td>2022-03-31 02:00:00+00:00</td>\n",
       "      <td>38.86075</td>\n",
       "      <td>-6.66639</td>\n",
       "      <td>0.877203</td>\n",
       "      <td>C006338</td>\n",
       "      <td>NaN</td>\n",
       "      <td>NaN</td>\n",
       "      <td>9.240090</td>\n",
       "      <td>backup: penman-monteith</td>\n",
       "    </tr>\n",
       "    <tr>\n",
       "      <th>3</th>\n",
       "      <td>2022-03-31 03:00:00+00:00</td>\n",
       "      <td>38.86075</td>\n",
       "      <td>-6.66639</td>\n",
       "      <td>0.903007</td>\n",
       "      <td>C006338</td>\n",
       "      <td>NaN</td>\n",
       "      <td>NaN</td>\n",
       "      <td>9.197510</td>\n",
       "      <td>backup: penman-monteith</td>\n",
       "    </tr>\n",
       "    <tr>\n",
       "      <th>4</th>\n",
       "      <td>2022-03-31 04:00:00+00:00</td>\n",
       "      <td>38.86075</td>\n",
       "      <td>-6.66639</td>\n",
       "      <td>0.890234</td>\n",
       "      <td>C006338</td>\n",
       "      <td>NaN</td>\n",
       "      <td>NaN</td>\n",
       "      <td>9.292874</td>\n",
       "      <td>backup: penman-monteith</td>\n",
       "    </tr>\n",
       "    <tr>\n",
       "      <th>...</th>\n",
       "      <td>...</td>\n",
       "      <td>...</td>\n",
       "      <td>...</td>\n",
       "      <td>...</td>\n",
       "      <td>...</td>\n",
       "      <td>...</td>\n",
       "      <td>...</td>\n",
       "      <td>...</td>\n",
       "      <td>...</td>\n",
       "    </tr>\n",
       "    <tr>\n",
       "      <th>2732</th>\n",
       "      <td>2022-07-22 20:00:00+00:00</td>\n",
       "      <td>38.86074</td>\n",
       "      <td>-6.66637</td>\n",
       "      <td>1.116666</td>\n",
       "      <td>C006338</td>\n",
       "      <td>NaN</td>\n",
       "      <td>NaN</td>\n",
       "      <td>25.679033</td>\n",
       "      <td>backup: penman-monteith</td>\n",
       "    </tr>\n",
       "    <tr>\n",
       "      <th>2733</th>\n",
       "      <td>2022-07-22 21:00:00+00:00</td>\n",
       "      <td>38.86074</td>\n",
       "      <td>-6.66637</td>\n",
       "      <td>1.090628</td>\n",
       "      <td>C006338</td>\n",
       "      <td>NaN</td>\n",
       "      <td>NaN</td>\n",
       "      <td>23.538393</td>\n",
       "      <td>backup: penman-monteith</td>\n",
       "    </tr>\n",
       "    <tr>\n",
       "      <th>2734</th>\n",
       "      <td>2022-07-22 22:00:00+00:00</td>\n",
       "      <td>38.86074</td>\n",
       "      <td>-6.66637</td>\n",
       "      <td>1.090628</td>\n",
       "      <td>C006338</td>\n",
       "      <td>NaN</td>\n",
       "      <td>NaN</td>\n",
       "      <td>25.154354</td>\n",
       "      <td>backup: penman-monteith</td>\n",
       "    </tr>\n",
       "    <tr>\n",
       "      <th>2735</th>\n",
       "      <td>2022-07-22 23:00:00+00:00</td>\n",
       "      <td>38.86074</td>\n",
       "      <td>-6.66637</td>\n",
       "      <td>1.069826</td>\n",
       "      <td>C006338</td>\n",
       "      <td>NaN</td>\n",
       "      <td>NaN</td>\n",
       "      <td>23.001755</td>\n",
       "      <td>backup: penman-monteith</td>\n",
       "    </tr>\n",
       "    <tr>\n",
       "      <th>2736</th>\n",
       "      <td>2022-07-23 00:00:00+00:00</td>\n",
       "      <td>38.86074</td>\n",
       "      <td>-6.66637</td>\n",
       "      <td>1.081892</td>\n",
       "      <td>C006338</td>\n",
       "      <td>NaN</td>\n",
       "      <td>NaN</td>\n",
       "      <td>22.013954</td>\n",
       "      <td>backup: penman-monteith</td>\n",
       "    </tr>\n",
       "  </tbody>\n",
       "</table>\n",
       "<p>2737 rows × 9 columns</p>\n",
       "</div>"
      ],
      "text/plain": [
       "                          time       lat     long      swdw   device  et  etc  \\\n",
       "0    2022-03-31 00:00:00+00:00  38.86075 -6.66639  0.905836  C006338 NaN  NaN   \n",
       "1    2022-03-31 01:00:00+00:00  38.86075 -6.66639  0.843358  C006338 NaN  NaN   \n",
       "2    2022-03-31 02:00:00+00:00  38.86075 -6.66639  0.877203  C006338 NaN  NaN   \n",
       "3    2022-03-31 03:00:00+00:00  38.86075 -6.66639  0.903007  C006338 NaN  NaN   \n",
       "4    2022-03-31 04:00:00+00:00  38.86075 -6.66639  0.890234  C006338 NaN  NaN   \n",
       "...                        ...       ...      ...       ...      ...  ..  ...   \n",
       "2732 2022-07-22 20:00:00+00:00  38.86074 -6.66637  1.116666  C006338 NaN  NaN   \n",
       "2733 2022-07-22 21:00:00+00:00  38.86074 -6.66637  1.090628  C006338 NaN  NaN   \n",
       "2734 2022-07-22 22:00:00+00:00  38.86074 -6.66637  1.090628  C006338 NaN  NaN   \n",
       "2735 2022-07-22 23:00:00+00:00  38.86074 -6.66637  1.069826  C006338 NaN  NaN   \n",
       "2736 2022-07-23 00:00:00+00:00  38.86074 -6.66637  1.081892  C006338 NaN  NaN   \n",
       "\n",
       "           tair               et_version  \n",
       "0     10.598426  backup: penman-monteith  \n",
       "1      9.771309  backup: penman-monteith  \n",
       "2      9.240090  backup: penman-monteith  \n",
       "3      9.197510  backup: penman-monteith  \n",
       "4      9.292874  backup: penman-monteith  \n",
       "...         ...                      ...  \n",
       "2732  25.679033  backup: penman-monteith  \n",
       "2733  23.538393  backup: penman-monteith  \n",
       "2734  25.154354  backup: penman-monteith  \n",
       "2735  23.001755  backup: penman-monteith  \n",
       "2736  22.013954  backup: penman-monteith  \n",
       "\n",
       "[2737 rows x 9 columns]"
      ]
     },
     "execution_count": 39,
     "metadata": {},
     "output_type": "execute_result"
    }
   ],
   "source": [
    "hourly[['time', 'lat','long', 'swdw', 'device', 'et', 'etc','tair','et_version']]"
   ]
  },
  {
   "cell_type": "code",
   "execution_count": 40,
   "id": "0952ede3",
   "metadata": {},
   "outputs": [
    {
     "data": {
      "text/html": [
       "<div>\n",
       "<style scoped>\n",
       "    .dataframe tbody tr th:only-of-type {\n",
       "        vertical-align: middle;\n",
       "    }\n",
       "\n",
       "    .dataframe tbody tr th {\n",
       "        vertical-align: top;\n",
       "    }\n",
       "\n",
       "    .dataframe thead th {\n",
       "        text-align: right;\n",
       "    }\n",
       "</style>\n",
       "<table border=\"1\" class=\"dataframe\">\n",
       "  <thead>\n",
       "    <tr style=\"text-align: right;\">\n",
       "      <th></th>\n",
       "      <th>time</th>\n",
       "      <th>device</th>\n",
       "      <th>location</th>\n",
       "      <th>b1dw</th>\n",
       "      <th>b1uw</th>\n",
       "      <th>b2dw</th>\n",
       "      <th>b2uw</th>\n",
       "      <th>b3dw</th>\n",
       "      <th>b3uw</th>\n",
       "      <th>b4dw</th>\n",
       "      <th>...</th>\n",
       "      <th>etc</th>\n",
       "      <th>et</th>\n",
       "      <th>rh_at_maxt</th>\n",
       "      <th>vpd</th>\n",
       "      <th>max_tdew</th>\n",
       "      <th>min_rh</th>\n",
       "      <th>low_quality</th>\n",
       "      <th>sample_pct</th>\n",
       "      <th>et_version</th>\n",
       "      <th>update_time</th>\n",
       "    </tr>\n",
       "  </thead>\n",
       "  <tbody>\n",
       "    <tr>\n",
       "      <th>0</th>\n",
       "      <td>2022-03-31 00:00:00+00:00</td>\n",
       "      <td>C006338</td>\n",
       "      <td>607d633c6cd58c000d80ecdb</td>\n",
       "      <td>0.002573</td>\n",
       "      <td>0.001959</td>\n",
       "      <td>0.000940</td>\n",
       "      <td>0.000966</td>\n",
       "      <td>0.001980</td>\n",
       "      <td>0.001524</td>\n",
       "      <td>0.001136</td>\n",
       "      <td>...</td>\n",
       "      <td>NaN</td>\n",
       "      <td>NaN</td>\n",
       "      <td>0.8066</td>\n",
       "      <td>0.218542</td>\n",
       "      <td>8.019889</td>\n",
       "      <td>0.8065</td>\n",
       "      <td>True</td>\n",
       "      <td>1.00</td>\n",
       "      <td>backup: penman-monteith</td>\n",
       "      <td>2022-07-20 21:13:18+00</td>\n",
       "    </tr>\n",
       "    <tr>\n",
       "      <th>1</th>\n",
       "      <td>2022-03-31 01:00:00+00:00</td>\n",
       "      <td>C006338</td>\n",
       "      <td>607d633c6cd58c000d80ecdb</td>\n",
       "      <td>0.002381</td>\n",
       "      <td>0.001886</td>\n",
       "      <td>0.000868</td>\n",
       "      <td>0.000977</td>\n",
       "      <td>0.001985</td>\n",
       "      <td>0.001562</td>\n",
       "      <td>0.001124</td>\n",
       "      <td>...</td>\n",
       "      <td>NaN</td>\n",
       "      <td>NaN</td>\n",
       "      <td>0.8632</td>\n",
       "      <td>0.157749</td>\n",
       "      <td>7.826758</td>\n",
       "      <td>0.8581</td>\n",
       "      <td>True</td>\n",
       "      <td>1.00</td>\n",
       "      <td>backup: penman-monteith</td>\n",
       "      <td>2022-07-20 21:13:22+00</td>\n",
       "    </tr>\n",
       "    <tr>\n",
       "      <th>2</th>\n",
       "      <td>2022-03-31 02:00:00+00:00</td>\n",
       "      <td>C006338</td>\n",
       "      <td>607d633c6cd58c000d80ecdb</td>\n",
       "      <td>0.002436</td>\n",
       "      <td>0.001993</td>\n",
       "      <td>0.000921</td>\n",
       "      <td>0.000966</td>\n",
       "      <td>0.002007</td>\n",
       "      <td>0.001406</td>\n",
       "      <td>0.001067</td>\n",
       "      <td>...</td>\n",
       "      <td>NaN</td>\n",
       "      <td>NaN</td>\n",
       "      <td>0.8958</td>\n",
       "      <td>0.119446</td>\n",
       "      <td>7.789882</td>\n",
       "      <td>0.8886</td>\n",
       "      <td>True</td>\n",
       "      <td>1.00</td>\n",
       "      <td>backup: penman-monteith</td>\n",
       "      <td>2022-07-20 21:13:26+00</td>\n",
       "    </tr>\n",
       "    <tr>\n",
       "      <th>3</th>\n",
       "      <td>2022-03-31 03:00:00+00:00</td>\n",
       "      <td>C006338</td>\n",
       "      <td>607d633c6cd58c000d80ecdb</td>\n",
       "      <td>0.002177</td>\n",
       "      <td>0.001912</td>\n",
       "      <td>0.000922</td>\n",
       "      <td>0.000952</td>\n",
       "      <td>0.001930</td>\n",
       "      <td>0.001477</td>\n",
       "      <td>0.001155</td>\n",
       "      <td>...</td>\n",
       "      <td>NaN</td>\n",
       "      <td>NaN</td>\n",
       "      <td>0.8912</td>\n",
       "      <td>0.115965</td>\n",
       "      <td>7.879028</td>\n",
       "      <td>0.8905</td>\n",
       "      <td>True</td>\n",
       "      <td>0.92</td>\n",
       "      <td>backup: penman-monteith</td>\n",
       "      <td>2022-07-20 21:13:29+00</td>\n",
       "    </tr>\n",
       "    <tr>\n",
       "      <th>4</th>\n",
       "      <td>2022-03-31 04:00:00+00:00</td>\n",
       "      <td>C006338</td>\n",
       "      <td>607d633c6cd58c000d80ecdb</td>\n",
       "      <td>0.002374</td>\n",
       "      <td>0.001866</td>\n",
       "      <td>0.000888</td>\n",
       "      <td>0.001001</td>\n",
       "      <td>0.002050</td>\n",
       "      <td>0.001562</td>\n",
       "      <td>0.001120</td>\n",
       "      <td>...</td>\n",
       "      <td>NaN</td>\n",
       "      <td>NaN</td>\n",
       "      <td>0.8799</td>\n",
       "      <td>0.130890</td>\n",
       "      <td>7.708285</td>\n",
       "      <td>0.8767</td>\n",
       "      <td>True</td>\n",
       "      <td>1.00</td>\n",
       "      <td>backup: penman-monteith</td>\n",
       "      <td>2022-07-20 21:13:31+00</td>\n",
       "    </tr>\n",
       "  </tbody>\n",
       "</table>\n",
       "<p>5 rows × 58 columns</p>\n",
       "</div>"
      ],
      "text/plain": [
       "                       time   device                  location      b1dw  \\\n",
       "0 2022-03-31 00:00:00+00:00  C006338  607d633c6cd58c000d80ecdb  0.002573   \n",
       "1 2022-03-31 01:00:00+00:00  C006338  607d633c6cd58c000d80ecdb  0.002381   \n",
       "2 2022-03-31 02:00:00+00:00  C006338  607d633c6cd58c000d80ecdb  0.002436   \n",
       "3 2022-03-31 03:00:00+00:00  C006338  607d633c6cd58c000d80ecdb  0.002177   \n",
       "4 2022-03-31 04:00:00+00:00  C006338  607d633c6cd58c000d80ecdb  0.002374   \n",
       "\n",
       "       b1uw      b2dw      b2uw      b3dw      b3uw      b4dw  ...  etc  et  \\\n",
       "0  0.001959  0.000940  0.000966  0.001980  0.001524  0.001136  ...  NaN NaN   \n",
       "1  0.001886  0.000868  0.000977  0.001985  0.001562  0.001124  ...  NaN NaN   \n",
       "2  0.001993  0.000921  0.000966  0.002007  0.001406  0.001067  ...  NaN NaN   \n",
       "3  0.001912  0.000922  0.000952  0.001930  0.001477  0.001155  ...  NaN NaN   \n",
       "4  0.001866  0.000888  0.001001  0.002050  0.001562  0.001120  ...  NaN NaN   \n",
       "\n",
       "   rh_at_maxt       vpd  max_tdew  min_rh  low_quality sample_pct  \\\n",
       "0      0.8066  0.218542  8.019889  0.8065         True       1.00   \n",
       "1      0.8632  0.157749  7.826758  0.8581         True       1.00   \n",
       "2      0.8958  0.119446  7.789882  0.8886         True       1.00   \n",
       "3      0.8912  0.115965  7.879028  0.8905         True       0.92   \n",
       "4      0.8799  0.130890  7.708285  0.8767         True       1.00   \n",
       "\n",
       "                et_version             update_time  \n",
       "0  backup: penman-monteith  2022-07-20 21:13:18+00  \n",
       "1  backup: penman-monteith  2022-07-20 21:13:22+00  \n",
       "2  backup: penman-monteith  2022-07-20 21:13:26+00  \n",
       "3  backup: penman-monteith  2022-07-20 21:13:29+00  \n",
       "4  backup: penman-monteith  2022-07-20 21:13:31+00  \n",
       "\n",
       "[5 rows x 58 columns]"
      ]
     },
     "execution_count": 40,
     "metadata": {},
     "output_type": "execute_result"
    }
   ],
   "source": [
    "sorted_hourly = hourly.sort_values(by=['time'], ascending=True)\n",
    "sorted_hourly.head()"
   ]
  },
  {
   "cell_type": "code",
   "execution_count": 41,
   "id": "27a983b4",
   "metadata": {},
   "outputs": [
    {
     "data": {
      "text/plain": [
       "<bound method Series.unique of 2544    backup: penman-monteith\n",
       "2545    backup: penman-monteith\n",
       "2546    backup: penman-monteith\n",
       "2547    backup: penman-monteith\n",
       "2548    backup: penman-monteith\n",
       "                 ...           \n",
       "2708    backup: penman-monteith\n",
       "2709    backup: penman-monteith\n",
       "2710    backup: penman-monteith\n",
       "2711    backup: penman-monteith\n",
       "2712    backup: penman-monteith\n",
       "Name: et_version, Length: 169, dtype: object>"
      ]
     },
     "execution_count": 41,
     "metadata": {},
     "output_type": "execute_result"
    }
   ],
   "source": [
    "filtered_df =sorted_hourly.loc[sorted_hourly[\"time\"].between('2022-07-15', '2022-07-22')]\n",
    "filtered_df.reset_index(drop=True)\n",
    "filtered_df['et_version'].unique"
   ]
  },
  {
   "cell_type": "code",
   "execution_count": 42,
   "id": "5b19d374",
   "metadata": {},
   "outputs": [],
   "source": [
    "daily = get_data_prod(f\"\"\"\n",
    "        select *\n",
    "        from device_data.daily\n",
    "        where device = '{device}'\n",
    "        and time >= '{start}'\n",
    "        and time <= '{end}'\n",
    "        \"\"\")"
   ]
  },
  {
   "cell_type": "code",
   "execution_count": 43,
   "id": "6e4d3217",
   "metadata": {},
   "outputs": [
    {
     "data": {
      "text/html": [
       "<div>\n",
       "<style scoped>\n",
       "    .dataframe tbody tr th:only-of-type {\n",
       "        vertical-align: middle;\n",
       "    }\n",
       "\n",
       "    .dataframe tbody tr th {\n",
       "        vertical-align: top;\n",
       "    }\n",
       "\n",
       "    .dataframe thead th {\n",
       "        text-align: right;\n",
       "    }\n",
       "</style>\n",
       "<table border=\"1\" class=\"dataframe\">\n",
       "  <thead>\n",
       "    <tr style=\"text-align: right;\">\n",
       "      <th></th>\n",
       "      <th>device</th>\n",
       "      <th>time</th>\n",
       "      <th>et</th>\n",
       "      <th>kc</th>\n",
       "      <th>etc</th>\n",
       "    </tr>\n",
       "  </thead>\n",
       "  <tbody>\n",
       "    <tr>\n",
       "      <th>0</th>\n",
       "      <td>C006338</td>\n",
       "      <td>2022-03-31 00:00:00+00:00</td>\n",
       "      <td>0.000000</td>\n",
       "      <td>0.378814</td>\n",
       "      <td>0.000000</td>\n",
       "    </tr>\n",
       "    <tr>\n",
       "      <th>1</th>\n",
       "      <td>C006338</td>\n",
       "      <td>2022-04-01 00:00:00+00:00</td>\n",
       "      <td>0.000000</td>\n",
       "      <td>0.344619</td>\n",
       "      <td>0.000000</td>\n",
       "    </tr>\n",
       "    <tr>\n",
       "      <th>2</th>\n",
       "      <td>C006338</td>\n",
       "      <td>2022-04-02 00:00:00+00:00</td>\n",
       "      <td>0.140981</td>\n",
       "      <td>0.329930</td>\n",
       "      <td>0.048585</td>\n",
       "    </tr>\n",
       "    <tr>\n",
       "      <th>3</th>\n",
       "      <td>C006338</td>\n",
       "      <td>2022-04-03 00:00:00+00:00</td>\n",
       "      <td>0.000000</td>\n",
       "      <td>0.329460</td>\n",
       "      <td>0.000000</td>\n",
       "    </tr>\n",
       "    <tr>\n",
       "      <th>4</th>\n",
       "      <td>C006338</td>\n",
       "      <td>2022-04-04 00:00:00+00:00</td>\n",
       "      <td>0.000000</td>\n",
       "      <td>0.326921</td>\n",
       "      <td>0.000000</td>\n",
       "    </tr>\n",
       "    <tr>\n",
       "      <th>...</th>\n",
       "      <td>...</td>\n",
       "      <td>...</td>\n",
       "      <td>...</td>\n",
       "      <td>...</td>\n",
       "      <td>...</td>\n",
       "    </tr>\n",
       "    <tr>\n",
       "      <th>110</th>\n",
       "      <td>C006338</td>\n",
       "      <td>2022-07-19 00:00:00+00:00</td>\n",
       "      <td>0.000000</td>\n",
       "      <td>0.792976</td>\n",
       "      <td>0.000000</td>\n",
       "    </tr>\n",
       "    <tr>\n",
       "      <th>111</th>\n",
       "      <td>C006338</td>\n",
       "      <td>2022-07-20 00:00:00+00:00</td>\n",
       "      <td>0.000000</td>\n",
       "      <td>0.766879</td>\n",
       "      <td>0.000000</td>\n",
       "    </tr>\n",
       "    <tr>\n",
       "      <th>112</th>\n",
       "      <td>C006338</td>\n",
       "      <td>2022-07-21 00:00:00+00:00</td>\n",
       "      <td>0.000000</td>\n",
       "      <td>0.785184</td>\n",
       "      <td>0.000000</td>\n",
       "    </tr>\n",
       "    <tr>\n",
       "      <th>113</th>\n",
       "      <td>C006338</td>\n",
       "      <td>2022-07-22 00:00:00+00:00</td>\n",
       "      <td>0.000000</td>\n",
       "      <td>0.785825</td>\n",
       "      <td>0.000000</td>\n",
       "    </tr>\n",
       "    <tr>\n",
       "      <th>114</th>\n",
       "      <td>C006338</td>\n",
       "      <td>2022-07-23 00:00:00+00:00</td>\n",
       "      <td>0.000000</td>\n",
       "      <td>0.772422</td>\n",
       "      <td>0.000000</td>\n",
       "    </tr>\n",
       "  </tbody>\n",
       "</table>\n",
       "<p>115 rows × 5 columns</p>\n",
       "</div>"
      ],
      "text/plain": [
       "      device                      time        et        kc       etc\n",
       "0    C006338 2022-03-31 00:00:00+00:00  0.000000  0.378814  0.000000\n",
       "1    C006338 2022-04-01 00:00:00+00:00  0.000000  0.344619  0.000000\n",
       "2    C006338 2022-04-02 00:00:00+00:00  0.140981  0.329930  0.048585\n",
       "3    C006338 2022-04-03 00:00:00+00:00  0.000000  0.329460  0.000000\n",
       "4    C006338 2022-04-04 00:00:00+00:00  0.000000  0.326921  0.000000\n",
       "..       ...                       ...       ...       ...       ...\n",
       "110  C006338 2022-07-19 00:00:00+00:00  0.000000  0.792976  0.000000\n",
       "111  C006338 2022-07-20 00:00:00+00:00  0.000000  0.766879  0.000000\n",
       "112  C006338 2022-07-21 00:00:00+00:00  0.000000  0.785184  0.000000\n",
       "113  C006338 2022-07-22 00:00:00+00:00  0.000000  0.785825  0.000000\n",
       "114  C006338 2022-07-23 00:00:00+00:00  0.000000  0.772422  0.000000\n",
       "\n",
       "[115 rows x 5 columns]"
      ]
     },
     "execution_count": 43,
     "metadata": {},
     "output_type": "execute_result"
    }
   ],
   "source": [
    "daily[['device', 'time', 'et','kc', 'etc']]"
   ]
  },
  {
   "cell_type": "code",
   "execution_count": 44,
   "id": "e5da0ade",
   "metadata": {},
   "outputs": [
    {
     "data": {
      "text/html": [
       "<div>\n",
       "<style scoped>\n",
       "    .dataframe tbody tr th:only-of-type {\n",
       "        vertical-align: middle;\n",
       "    }\n",
       "\n",
       "    .dataframe tbody tr th {\n",
       "        vertical-align: top;\n",
       "    }\n",
       "\n",
       "    .dataframe thead th {\n",
       "        text-align: right;\n",
       "    }\n",
       "</style>\n",
       "<table border=\"1\" class=\"dataframe\">\n",
       "  <thead>\n",
       "    <tr style=\"text-align: right;\">\n",
       "      <th></th>\n",
       "      <th>time</th>\n",
       "      <th>et</th>\n",
       "      <th>etc</th>\n",
       "    </tr>\n",
       "  </thead>\n",
       "  <tbody>\n",
       "    <tr>\n",
       "      <th>106</th>\n",
       "      <td>2022-07-15 00:00:00+00:00</td>\n",
       "      <td>0.0</td>\n",
       "      <td>0.0</td>\n",
       "    </tr>\n",
       "    <tr>\n",
       "      <th>107</th>\n",
       "      <td>2022-07-16 00:00:00+00:00</td>\n",
       "      <td>0.0</td>\n",
       "      <td>0.0</td>\n",
       "    </tr>\n",
       "    <tr>\n",
       "      <th>108</th>\n",
       "      <td>2022-07-17 00:00:00+00:00</td>\n",
       "      <td>0.0</td>\n",
       "      <td>0.0</td>\n",
       "    </tr>\n",
       "    <tr>\n",
       "      <th>109</th>\n",
       "      <td>2022-07-18 00:00:00+00:00</td>\n",
       "      <td>0.0</td>\n",
       "      <td>0.0</td>\n",
       "    </tr>\n",
       "    <tr>\n",
       "      <th>110</th>\n",
       "      <td>2022-07-19 00:00:00+00:00</td>\n",
       "      <td>0.0</td>\n",
       "      <td>0.0</td>\n",
       "    </tr>\n",
       "    <tr>\n",
       "      <th>111</th>\n",
       "      <td>2022-07-20 00:00:00+00:00</td>\n",
       "      <td>0.0</td>\n",
       "      <td>0.0</td>\n",
       "    </tr>\n",
       "    <tr>\n",
       "      <th>112</th>\n",
       "      <td>2022-07-21 00:00:00+00:00</td>\n",
       "      <td>0.0</td>\n",
       "      <td>0.0</td>\n",
       "    </tr>\n",
       "    <tr>\n",
       "      <th>113</th>\n",
       "      <td>2022-07-22 00:00:00+00:00</td>\n",
       "      <td>0.0</td>\n",
       "      <td>0.0</td>\n",
       "    </tr>\n",
       "  </tbody>\n",
       "</table>\n",
       "</div>"
      ],
      "text/plain": [
       "                         time   et  etc\n",
       "106 2022-07-15 00:00:00+00:00  0.0  0.0\n",
       "107 2022-07-16 00:00:00+00:00  0.0  0.0\n",
       "108 2022-07-17 00:00:00+00:00  0.0  0.0\n",
       "109 2022-07-18 00:00:00+00:00  0.0  0.0\n",
       "110 2022-07-19 00:00:00+00:00  0.0  0.0\n",
       "111 2022-07-20 00:00:00+00:00  0.0  0.0\n",
       "112 2022-07-21 00:00:00+00:00  0.0  0.0\n",
       "113 2022-07-22 00:00:00+00:00  0.0  0.0"
      ]
     },
     "execution_count": 44,
     "metadata": {},
     "output_type": "execute_result"
    }
   ],
   "source": [
    "sorted_hourly.loc[sorted_hourly[\"time\"].between('2022-07-15', '2022-07-22')]\n",
    "daily_filtered = daily.loc[daily['time'].between('2022-07-15', '2022-07-22')]\n",
    "daily_filtered[['time', 'et','etc']]"
   ]
  },
  {
   "cell_type": "code",
   "execution_count": 60,
   "id": "dc257f2e",
   "metadata": {},
   "outputs": [
    {
     "data": {
      "application/vnd.plotly.v1+json": {
       "config": {
        "plotlyServerURL": "https://plot.ly"
       },
       "data": [
        {
         "name": " et0 ",
         "type": "scatter",
         "uid": "08bed965-edcb-4a8a-b469-9ea857076348",
         "x": [
          "2022-07-15T00:00:00+00:00",
          "2022-07-16T00:00:00+00:00",
          "2022-07-17T00:00:00+00:00",
          "2022-07-18T00:00:00+00:00",
          "2022-07-19T00:00:00+00:00",
          "2022-07-20T00:00:00+00:00"
         ],
         "y": [
          0,
          0,
          0,
          0,
          0,
          0
         ]
        },
        {
         "name": " crop et ",
         "type": "scatter",
         "uid": "f8beed19-d1f2-4cb4-9e8e-936134381fb0",
         "visible": true,
         "x": [
          "2022-07-15T00:00:00+00:00",
          "2022-07-16T00:00:00+00:00",
          "2022-07-17T00:00:00+00:00",
          "2022-07-18T00:00:00+00:00",
          "2022-07-19T00:00:00+00:00",
          "2022-07-20T00:00:00+00:00"
         ],
         "y": [
          0,
          0,
          0,
          0,
          0,
          0
         ]
        }
       ],
       "layout": {
        "autosize": true,
        "template": {
         "data": {
          "bar": [
           {
            "error_x": {
             "color": "#2a3f5f"
            },
            "error_y": {
             "color": "#2a3f5f"
            },
            "marker": {
             "line": {
              "color": "#E5ECF6",
              "width": 0.5
             },
             "pattern": {
              "fillmode": "overlay",
              "size": 10,
              "solidity": 0.2
             }
            },
            "type": "bar"
           }
          ],
          "barpolar": [
           {
            "marker": {
             "line": {
              "color": "#E5ECF6",
              "width": 0.5
             },
             "pattern": {
              "fillmode": "overlay",
              "size": 10,
              "solidity": 0.2
             }
            },
            "type": "barpolar"
           }
          ],
          "carpet": [
           {
            "aaxis": {
             "endlinecolor": "#2a3f5f",
             "gridcolor": "white",
             "linecolor": "white",
             "minorgridcolor": "white",
             "startlinecolor": "#2a3f5f"
            },
            "baxis": {
             "endlinecolor": "#2a3f5f",
             "gridcolor": "white",
             "linecolor": "white",
             "minorgridcolor": "white",
             "startlinecolor": "#2a3f5f"
            },
            "type": "carpet"
           }
          ],
          "choropleth": [
           {
            "colorbar": {
             "outlinewidth": 0,
             "ticks": ""
            },
            "type": "choropleth"
           }
          ],
          "contour": [
           {
            "colorbar": {
             "outlinewidth": 0,
             "ticks": ""
            },
            "colorscale": [
             [
              0,
              "#0d0887"
             ],
             [
              0.1111111111111111,
              "#46039f"
             ],
             [
              0.2222222222222222,
              "#7201a8"
             ],
             [
              0.3333333333333333,
              "#9c179e"
             ],
             [
              0.4444444444444444,
              "#bd3786"
             ],
             [
              0.5555555555555556,
              "#d8576b"
             ],
             [
              0.6666666666666666,
              "#ed7953"
             ],
             [
              0.7777777777777778,
              "#fb9f3a"
             ],
             [
              0.8888888888888888,
              "#fdca26"
             ],
             [
              1,
              "#f0f921"
             ]
            ],
            "type": "contour"
           }
          ],
          "contourcarpet": [
           {
            "colorbar": {
             "outlinewidth": 0,
             "ticks": ""
            },
            "type": "contourcarpet"
           }
          ],
          "heatmap": [
           {
            "colorbar": {
             "outlinewidth": 0,
             "ticks": ""
            },
            "colorscale": [
             [
              0,
              "#0d0887"
             ],
             [
              0.1111111111111111,
              "#46039f"
             ],
             [
              0.2222222222222222,
              "#7201a8"
             ],
             [
              0.3333333333333333,
              "#9c179e"
             ],
             [
              0.4444444444444444,
              "#bd3786"
             ],
             [
              0.5555555555555556,
              "#d8576b"
             ],
             [
              0.6666666666666666,
              "#ed7953"
             ],
             [
              0.7777777777777778,
              "#fb9f3a"
             ],
             [
              0.8888888888888888,
              "#fdca26"
             ],
             [
              1,
              "#f0f921"
             ]
            ],
            "type": "heatmap"
           }
          ],
          "heatmapgl": [
           {
            "colorbar": {
             "outlinewidth": 0,
             "ticks": ""
            },
            "colorscale": [
             [
              0,
              "#0d0887"
             ],
             [
              0.1111111111111111,
              "#46039f"
             ],
             [
              0.2222222222222222,
              "#7201a8"
             ],
             [
              0.3333333333333333,
              "#9c179e"
             ],
             [
              0.4444444444444444,
              "#bd3786"
             ],
             [
              0.5555555555555556,
              "#d8576b"
             ],
             [
              0.6666666666666666,
              "#ed7953"
             ],
             [
              0.7777777777777778,
              "#fb9f3a"
             ],
             [
              0.8888888888888888,
              "#fdca26"
             ],
             [
              1,
              "#f0f921"
             ]
            ],
            "type": "heatmapgl"
           }
          ],
          "histogram": [
           {
            "marker": {
             "pattern": {
              "fillmode": "overlay",
              "size": 10,
              "solidity": 0.2
             }
            },
            "type": "histogram"
           }
          ],
          "histogram2d": [
           {
            "colorbar": {
             "outlinewidth": 0,
             "ticks": ""
            },
            "colorscale": [
             [
              0,
              "#0d0887"
             ],
             [
              0.1111111111111111,
              "#46039f"
             ],
             [
              0.2222222222222222,
              "#7201a8"
             ],
             [
              0.3333333333333333,
              "#9c179e"
             ],
             [
              0.4444444444444444,
              "#bd3786"
             ],
             [
              0.5555555555555556,
              "#d8576b"
             ],
             [
              0.6666666666666666,
              "#ed7953"
             ],
             [
              0.7777777777777778,
              "#fb9f3a"
             ],
             [
              0.8888888888888888,
              "#fdca26"
             ],
             [
              1,
              "#f0f921"
             ]
            ],
            "type": "histogram2d"
           }
          ],
          "histogram2dcontour": [
           {
            "colorbar": {
             "outlinewidth": 0,
             "ticks": ""
            },
            "colorscale": [
             [
              0,
              "#0d0887"
             ],
             [
              0.1111111111111111,
              "#46039f"
             ],
             [
              0.2222222222222222,
              "#7201a8"
             ],
             [
              0.3333333333333333,
              "#9c179e"
             ],
             [
              0.4444444444444444,
              "#bd3786"
             ],
             [
              0.5555555555555556,
              "#d8576b"
             ],
             [
              0.6666666666666666,
              "#ed7953"
             ],
             [
              0.7777777777777778,
              "#fb9f3a"
             ],
             [
              0.8888888888888888,
              "#fdca26"
             ],
             [
              1,
              "#f0f921"
             ]
            ],
            "type": "histogram2dcontour"
           }
          ],
          "mesh3d": [
           {
            "colorbar": {
             "outlinewidth": 0,
             "ticks": ""
            },
            "type": "mesh3d"
           }
          ],
          "parcoords": [
           {
            "line": {
             "colorbar": {
              "outlinewidth": 0,
              "ticks": ""
             }
            },
            "type": "parcoords"
           }
          ],
          "pie": [
           {
            "automargin": true,
            "type": "pie"
           }
          ],
          "scatter": [
           {
            "marker": {
             "colorbar": {
              "outlinewidth": 0,
              "ticks": ""
             }
            },
            "type": "scatter"
           }
          ],
          "scatter3d": [
           {
            "line": {
             "colorbar": {
              "outlinewidth": 0,
              "ticks": ""
             }
            },
            "marker": {
             "colorbar": {
              "outlinewidth": 0,
              "ticks": ""
             }
            },
            "type": "scatter3d"
           }
          ],
          "scattercarpet": [
           {
            "marker": {
             "colorbar": {
              "outlinewidth": 0,
              "ticks": ""
             }
            },
            "type": "scattercarpet"
           }
          ],
          "scattergeo": [
           {
            "marker": {
             "colorbar": {
              "outlinewidth": 0,
              "ticks": ""
             }
            },
            "type": "scattergeo"
           }
          ],
          "scattergl": [
           {
            "marker": {
             "colorbar": {
              "outlinewidth": 0,
              "ticks": ""
             }
            },
            "type": "scattergl"
           }
          ],
          "scattermapbox": [
           {
            "marker": {
             "colorbar": {
              "outlinewidth": 0,
              "ticks": ""
             }
            },
            "type": "scattermapbox"
           }
          ],
          "scatterpolar": [
           {
            "marker": {
             "colorbar": {
              "outlinewidth": 0,
              "ticks": ""
             }
            },
            "type": "scatterpolar"
           }
          ],
          "scatterpolargl": [
           {
            "marker": {
             "colorbar": {
              "outlinewidth": 0,
              "ticks": ""
             }
            },
            "type": "scatterpolargl"
           }
          ],
          "scatterternary": [
           {
            "marker": {
             "colorbar": {
              "outlinewidth": 0,
              "ticks": ""
             }
            },
            "type": "scatterternary"
           }
          ],
          "surface": [
           {
            "colorbar": {
             "outlinewidth": 0,
             "ticks": ""
            },
            "colorscale": [
             [
              0,
              "#0d0887"
             ],
             [
              0.1111111111111111,
              "#46039f"
             ],
             [
              0.2222222222222222,
              "#7201a8"
             ],
             [
              0.3333333333333333,
              "#9c179e"
             ],
             [
              0.4444444444444444,
              "#bd3786"
             ],
             [
              0.5555555555555556,
              "#d8576b"
             ],
             [
              0.6666666666666666,
              "#ed7953"
             ],
             [
              0.7777777777777778,
              "#fb9f3a"
             ],
             [
              0.8888888888888888,
              "#fdca26"
             ],
             [
              1,
              "#f0f921"
             ]
            ],
            "type": "surface"
           }
          ],
          "table": [
           {
            "cells": {
             "fill": {
              "color": "#EBF0F8"
             },
             "line": {
              "color": "white"
             }
            },
            "header": {
             "fill": {
              "color": "#C8D4E3"
             },
             "line": {
              "color": "white"
             }
            },
            "type": "table"
           }
          ]
         },
         "layout": {
          "annotationdefaults": {
           "arrowcolor": "#2a3f5f",
           "arrowhead": 0,
           "arrowwidth": 1
          },
          "autotypenumbers": "strict",
          "coloraxis": {
           "colorbar": {
            "outlinewidth": 0,
            "ticks": ""
           }
          },
          "colorscale": {
           "diverging": [
            [
             0,
             "#8e0152"
            ],
            [
             0.1,
             "#c51b7d"
            ],
            [
             0.2,
             "#de77ae"
            ],
            [
             0.3,
             "#f1b6da"
            ],
            [
             0.4,
             "#fde0ef"
            ],
            [
             0.5,
             "#f7f7f7"
            ],
            [
             0.6,
             "#e6f5d0"
            ],
            [
             0.7,
             "#b8e186"
            ],
            [
             0.8,
             "#7fbc41"
            ],
            [
             0.9,
             "#4d9221"
            ],
            [
             1,
             "#276419"
            ]
           ],
           "sequential": [
            [
             0,
             "#0d0887"
            ],
            [
             0.1111111111111111,
             "#46039f"
            ],
            [
             0.2222222222222222,
             "#7201a8"
            ],
            [
             0.3333333333333333,
             "#9c179e"
            ],
            [
             0.4444444444444444,
             "#bd3786"
            ],
            [
             0.5555555555555556,
             "#d8576b"
            ],
            [
             0.6666666666666666,
             "#ed7953"
            ],
            [
             0.7777777777777778,
             "#fb9f3a"
            ],
            [
             0.8888888888888888,
             "#fdca26"
            ],
            [
             1,
             "#f0f921"
            ]
           ],
           "sequentialminus": [
            [
             0,
             "#0d0887"
            ],
            [
             0.1111111111111111,
             "#46039f"
            ],
            [
             0.2222222222222222,
             "#7201a8"
            ],
            [
             0.3333333333333333,
             "#9c179e"
            ],
            [
             0.4444444444444444,
             "#bd3786"
            ],
            [
             0.5555555555555556,
             "#d8576b"
            ],
            [
             0.6666666666666666,
             "#ed7953"
            ],
            [
             0.7777777777777778,
             "#fb9f3a"
            ],
            [
             0.8888888888888888,
             "#fdca26"
            ],
            [
             1,
             "#f0f921"
            ]
           ]
          },
          "colorway": [
           "#636efa",
           "#EF553B",
           "#00cc96",
           "#ab63fa",
           "#FFA15A",
           "#19d3f3",
           "#FF6692",
           "#B6E880",
           "#FF97FF",
           "#FECB52"
          ],
          "font": {
           "color": "#2a3f5f"
          },
          "geo": {
           "bgcolor": "white",
           "lakecolor": "white",
           "landcolor": "#E5ECF6",
           "showlakes": true,
           "showland": true,
           "subunitcolor": "white"
          },
          "hoverlabel": {
           "align": "left"
          },
          "hovermode": "closest",
          "mapbox": {
           "style": "light"
          },
          "paper_bgcolor": "white",
          "plot_bgcolor": "#E5ECF6",
          "polar": {
           "angularaxis": {
            "gridcolor": "white",
            "linecolor": "white",
            "ticks": ""
           },
           "bgcolor": "#E5ECF6",
           "radialaxis": {
            "gridcolor": "white",
            "linecolor": "white",
            "ticks": ""
           }
          },
          "scene": {
           "xaxis": {
            "backgroundcolor": "#E5ECF6",
            "gridcolor": "white",
            "gridwidth": 2,
            "linecolor": "white",
            "showbackground": true,
            "ticks": "",
            "zerolinecolor": "white"
           },
           "yaxis": {
            "backgroundcolor": "#E5ECF6",
            "gridcolor": "white",
            "gridwidth": 2,
            "linecolor": "white",
            "showbackground": true,
            "ticks": "",
            "zerolinecolor": "white"
           },
           "zaxis": {
            "backgroundcolor": "#E5ECF6",
            "gridcolor": "white",
            "gridwidth": 2,
            "linecolor": "white",
            "showbackground": true,
            "ticks": "",
            "zerolinecolor": "white"
           }
          },
          "shapedefaults": {
           "line": {
            "color": "#2a3f5f"
           }
          },
          "ternary": {
           "aaxis": {
            "gridcolor": "white",
            "linecolor": "white",
            "ticks": ""
           },
           "baxis": {
            "gridcolor": "white",
            "linecolor": "white",
            "ticks": ""
           },
           "bgcolor": "#E5ECF6",
           "caxis": {
            "gridcolor": "white",
            "linecolor": "white",
            "ticks": ""
           }
          },
          "title": {
           "x": 0.05
          },
          "xaxis": {
           "automargin": true,
           "gridcolor": "white",
           "linecolor": "white",
           "ticks": "",
           "title": {
            "standoff": 15
           },
           "zerolinecolor": "white",
           "zerolinewidth": 2
          },
          "yaxis": {
           "automargin": true,
           "gridcolor": "white",
           "linecolor": "white",
           "ticks": "",
           "title": {
            "standoff": 15
           },
           "zerolinecolor": "white",
           "zerolinewidth": 2
          }
         }
        },
        "xaxis": {
         "autorange": true,
         "range": [
          "2022-07-14 16:46:10.9165",
          "2022-07-20 07:13:49.0835"
         ],
         "type": "date"
        },
        "yaxis": {
         "autorange": true,
         "range": [
          -1,
          1
         ],
         "type": "linear"
        }
       }
      },
      "image/png": "[encoded data removed]",
      "text/html": [
       "<div>                            <div id=\"c8d95398-b8c5-43c8-93a3-8e4f63121021\" class=\"plotly-graph-div\" style=\"height:525px; width:100%;\"></div>            <script type=\"text/javascript\">                require([\"plotly\"], function(Plotly) {                    window.PLOTLYENV=window.PLOTLYENV || {};                                    if (document.getElementById(\"c8d95398-b8c5-43c8-93a3-8e4f63121021\")) {                    Plotly.newPlot(                        \"c8d95398-b8c5-43c8-93a3-8e4f63121021\",                        [{\"name\":\" et0 \",\"x\":[\"2022-07-15T00:00:00+00:00\",\"2022-07-16T00:00:00+00:00\",\"2022-07-17T00:00:00+00:00\",\"2022-07-18T00:00:00+00:00\",\"2022-07-19T00:00:00+00:00\",\"2022-07-20T00:00:00+00:00\"],\"y\":[0.0,0.0,0.0,0.0,0.0,0.0],\"type\":\"scatter\",\"uid\":\"08bed965-edcb-4a8a-b469-9ea857076348\"},{\"name\":\" crop et \",\"x\":[\"2022-07-15T00:00:00+00:00\",\"2022-07-16T00:00:00+00:00\",\"2022-07-17T00:00:00+00:00\",\"2022-07-18T00:00:00+00:00\",\"2022-07-19T00:00:00+00:00\",\"2022-07-20T00:00:00+00:00\"],\"y\":[0.0,0.0,0.0,0.0,0.0,0.0],\"type\":\"scatter\",\"uid\":\"f8beed19-d1f2-4cb4-9e8e-936134381fb0\"}],                        {\"template\":{\"data\":{\"barpolar\":[{\"marker\":{\"line\":{\"color\":\"#E5ECF6\",\"width\":0.5},\"pattern\":{\"fillmode\":\"overlay\",\"size\":10,\"solidity\":0.2}},\"type\":\"barpolar\"}],\"bar\":[{\"error_x\":{\"color\":\"#2a3f5f\"},\"error_y\":{\"color\":\"#2a3f5f\"},\"marker\":{\"line\":{\"color\":\"#E5ECF6\",\"width\":0.5},\"pattern\":{\"fillmode\":\"overlay\",\"size\":10,\"solidity\":0.2}},\"type\":\"bar\"}],\"carpet\":[{\"aaxis\":{\"endlinecolor\":\"#2a3f5f\",\"gridcolor\":\"white\",\"linecolor\":\"white\",\"minorgridcolor\":\"white\",\"startlinecolor\":\"#2a3f5f\"},\"baxis\":{\"endlinecolor\":\"#2a3f5f\",\"gridcolor\":\"white\",\"linecolor\":\"white\",\"minorgridcolor\":\"white\",\"startlinecolor\":\"#2a3f5f\"},\"type\":\"carpet\"}],\"choropleth\":[{\"colorbar\":{\"outlinewidth\":0,\"ticks\":\"\"},\"type\":\"choropleth\"}],\"contourcarpet\":[{\"colorbar\":{\"outlinewidth\":0,\"ticks\":\"\"},\"type\":\"contourcarpet\"}],\"contour\":[{\"colorbar\":{\"outlinewidth\":0,\"ticks\":\"\"},\"colorscale\":[[0.0,\"#0d0887\"],[0.1111111111111111,\"#46039f\"],[0.2222222222222222,\"#7201a8\"],[0.3333333333333333,\"#9c179e\"],[0.4444444444444444,\"#bd3786\"],[0.5555555555555556,\"#d8576b\"],[0.6666666666666666,\"#ed7953\"],[0.7777777777777778,\"#fb9f3a\"],[0.8888888888888888,\"#fdca26\"],[1.0,\"#f0f921\"]],\"type\":\"contour\"}],\"heatmapgl\":[{\"colorbar\":{\"outlinewidth\":0,\"ticks\":\"\"},\"colorscale\":[[0.0,\"#0d0887\"],[0.1111111111111111,\"#46039f\"],[0.2222222222222222,\"#7201a8\"],[0.3333333333333333,\"#9c179e\"],[0.4444444444444444,\"#bd3786\"],[0.5555555555555556,\"#d8576b\"],[0.6666666666666666,\"#ed7953\"],[0.7777777777777778,\"#fb9f3a\"],[0.8888888888888888,\"#fdca26\"],[1.0,\"#f0f921\"]],\"type\":\"heatmapgl\"}],\"heatmap\":[{\"colorbar\":{\"outlinewidth\":0,\"ticks\":\"\"},\"colorscale\":[[0.0,\"#0d0887\"],[0.1111111111111111,\"#46039f\"],[0.2222222222222222,\"#7201a8\"],[0.3333333333333333,\"#9c179e\"],[0.4444444444444444,\"#bd3786\"],[0.5555555555555556,\"#d8576b\"],[0.6666666666666666,\"#ed7953\"],[0.7777777777777778,\"#fb9f3a\"],[0.8888888888888888,\"#fdca26\"],[1.0,\"#f0f921\"]],\"type\":\"heatmap\"}],\"histogram2dcontour\":[{\"colorbar\":{\"outlinewidth\":0,\"ticks\":\"\"},\"colorscale\":[[0.0,\"#0d0887\"],[0.1111111111111111,\"#46039f\"],[0.2222222222222222,\"#7201a8\"],[0.3333333333333333,\"#9c179e\"],[0.4444444444444444,\"#bd3786\"],[0.5555555555555556,\"#d8576b\"],[0.6666666666666666,\"#ed7953\"],[0.7777777777777778,\"#fb9f3a\"],[0.8888888888888888,\"#fdca26\"],[1.0,\"#f0f921\"]],\"type\":\"histogram2dcontour\"}],\"histogram2d\":[{\"colorbar\":{\"outlinewidth\":0,\"ticks\":\"\"},\"colorscale\":[[0.0,\"#0d0887\"],[0.1111111111111111,\"#46039f\"],[0.2222222222222222,\"#7201a8\"],[0.3333333333333333,\"#9c179e\"],[0.4444444444444444,\"#bd3786\"],[0.5555555555555556,\"#d8576b\"],[0.6666666666666666,\"#ed7953\"],[0.7777777777777778,\"#fb9f3a\"],[0.8888888888888888,\"#fdca26\"],[1.0,\"#f0f921\"]],\"type\":\"histogram2d\"}],\"histogram\":[{\"marker\":{\"pattern\":{\"fillmode\":\"overlay\",\"size\":10,\"solidity\":0.2}},\"type\":\"histogram\"}],\"mesh3d\":[{\"colorbar\":{\"outlinewidth\":0,\"ticks\":\"\"},\"type\":\"mesh3d\"}],\"parcoords\":[{\"line\":{\"colorbar\":{\"outlinewidth\":0,\"ticks\":\"\"}},\"type\":\"parcoords\"}],\"pie\":[{\"automargin\":true,\"type\":\"pie\"}],\"scatter3d\":[{\"line\":{\"colorbar\":{\"outlinewidth\":0,\"ticks\":\"\"}},\"marker\":{\"colorbar\":{\"outlinewidth\":0,\"ticks\":\"\"}},\"type\":\"scatter3d\"}],\"scattercarpet\":[{\"marker\":{\"colorbar\":{\"outlinewidth\":0,\"ticks\":\"\"}},\"type\":\"scattercarpet\"}],\"scattergeo\":[{\"marker\":{\"colorbar\":{\"outlinewidth\":0,\"ticks\":\"\"}},\"type\":\"scattergeo\"}],\"scattergl\":[{\"marker\":{\"colorbar\":{\"outlinewidth\":0,\"ticks\":\"\"}},\"type\":\"scattergl\"}],\"scattermapbox\":[{\"marker\":{\"colorbar\":{\"outlinewidth\":0,\"ticks\":\"\"}},\"type\":\"scattermapbox\"}],\"scatterpolargl\":[{\"marker\":{\"colorbar\":{\"outlinewidth\":0,\"ticks\":\"\"}},\"type\":\"scatterpolargl\"}],\"scatterpolar\":[{\"marker\":{\"colorbar\":{\"outlinewidth\":0,\"ticks\":\"\"}},\"type\":\"scatterpolar\"}],\"scatter\":[{\"marker\":{\"colorbar\":{\"outlinewidth\":0,\"ticks\":\"\"}},\"type\":\"scatter\"}],\"scatterternary\":[{\"marker\":{\"colorbar\":{\"outlinewidth\":0,\"ticks\":\"\"}},\"type\":\"scatterternary\"}],\"surface\":[{\"colorbar\":{\"outlinewidth\":0,\"ticks\":\"\"},\"colorscale\":[[0.0,\"#0d0887\"],[0.1111111111111111,\"#46039f\"],[0.2222222222222222,\"#7201a8\"],[0.3333333333333333,\"#9c179e\"],[0.4444444444444444,\"#bd3786\"],[0.5555555555555556,\"#d8576b\"],[0.6666666666666666,\"#ed7953\"],[0.7777777777777778,\"#fb9f3a\"],[0.8888888888888888,\"#fdca26\"],[1.0,\"#f0f921\"]],\"type\":\"surface\"}],\"table\":[{\"cells\":{\"fill\":{\"color\":\"#EBF0F8\"},\"line\":{\"color\":\"white\"}},\"header\":{\"fill\":{\"color\":\"#C8D4E3\"},\"line\":{\"color\":\"white\"}},\"type\":\"table\"}]},\"layout\":{\"annotationdefaults\":{\"arrowcolor\":\"#2a3f5f\",\"arrowhead\":0,\"arrowwidth\":1},\"autotypenumbers\":\"strict\",\"coloraxis\":{\"colorbar\":{\"outlinewidth\":0,\"ticks\":\"\"}},\"colorscale\":{\"diverging\":[[0,\"#8e0152\"],[0.1,\"#c51b7d\"],[0.2,\"#de77ae\"],[0.3,\"#f1b6da\"],[0.4,\"#fde0ef\"],[0.5,\"#f7f7f7\"],[0.6,\"#e6f5d0\"],[0.7,\"#b8e186\"],[0.8,\"#7fbc41\"],[0.9,\"#4d9221\"],[1,\"#276419\"]],\"sequential\":[[0.0,\"#0d0887\"],[0.1111111111111111,\"#46039f\"],[0.2222222222222222,\"#7201a8\"],[0.3333333333333333,\"#9c179e\"],[0.4444444444444444,\"#bd3786\"],[0.5555555555555556,\"#d8576b\"],[0.6666666666666666,\"#ed7953\"],[0.7777777777777778,\"#fb9f3a\"],[0.8888888888888888,\"#fdca26\"],[1.0,\"#f0f921\"]],\"sequentialminus\":[[0.0,\"#0d0887\"],[0.1111111111111111,\"#46039f\"],[0.2222222222222222,\"#7201a8\"],[0.3333333333333333,\"#9c179e\"],[0.4444444444444444,\"#bd3786\"],[0.5555555555555556,\"#d8576b\"],[0.6666666666666666,\"#ed7953\"],[0.7777777777777778,\"#fb9f3a\"],[0.8888888888888888,\"#fdca26\"],[1.0,\"#f0f921\"]]},\"colorway\":[\"#636efa\",\"#EF553B\",\"#00cc96\",\"#ab63fa\",\"#FFA15A\",\"#19d3f3\",\"#FF6692\",\"#B6E880\",\"#FF97FF\",\"#FECB52\"],\"font\":{\"color\":\"#2a3f5f\"},\"geo\":{\"bgcolor\":\"white\",\"lakecolor\":\"white\",\"landcolor\":\"#E5ECF6\",\"showlakes\":true,\"showland\":true,\"subunitcolor\":\"white\"},\"hoverlabel\":{\"align\":\"left\"},\"hovermode\":\"closest\",\"mapbox\":{\"style\":\"light\"},\"paper_bgcolor\":\"white\",\"plot_bgcolor\":\"#E5ECF6\",\"polar\":{\"angularaxis\":{\"gridcolor\":\"white\",\"linecolor\":\"white\",\"ticks\":\"\"},\"bgcolor\":\"#E5ECF6\",\"radialaxis\":{\"gridcolor\":\"white\",\"linecolor\":\"white\",\"ticks\":\"\"}},\"scene\":{\"xaxis\":{\"backgroundcolor\":\"#E5ECF6\",\"gridcolor\":\"white\",\"gridwidth\":2,\"linecolor\":\"white\",\"showbackground\":true,\"ticks\":\"\",\"zerolinecolor\":\"white\"},\"yaxis\":{\"backgroundcolor\":\"#E5ECF6\",\"gridcolor\":\"white\",\"gridwidth\":2,\"linecolor\":\"white\",\"showbackground\":true,\"ticks\":\"\",\"zerolinecolor\":\"white\"},\"zaxis\":{\"backgroundcolor\":\"#E5ECF6\",\"gridcolor\":\"white\",\"gridwidth\":2,\"linecolor\":\"white\",\"showbackground\":true,\"ticks\":\"\",\"zerolinecolor\":\"white\"}},\"shapedefaults\":{\"line\":{\"color\":\"#2a3f5f\"}},\"ternary\":{\"aaxis\":{\"gridcolor\":\"white\",\"linecolor\":\"white\",\"ticks\":\"\"},\"baxis\":{\"gridcolor\":\"white\",\"linecolor\":\"white\",\"ticks\":\"\"},\"bgcolor\":\"#E5ECF6\",\"caxis\":{\"gridcolor\":\"white\",\"linecolor\":\"white\",\"ticks\":\"\"}},\"title\":{\"x\":0.05},\"xaxis\":{\"automargin\":true,\"gridcolor\":\"white\",\"linecolor\":\"white\",\"ticks\":\"\",\"title\":{\"standoff\":15},\"zerolinecolor\":\"white\",\"zerolinewidth\":2},\"yaxis\":{\"automargin\":true,\"gridcolor\":\"white\",\"linecolor\":\"white\",\"ticks\":\"\",\"title\":{\"standoff\":15},\"zerolinecolor\":\"white\",\"zerolinewidth\":2}}}},                        {\"responsive\": true}                    ).then(function(){\n",
       "                            \n",
       "var gd = document.getElementById('c8d95398-b8c5-43c8-93a3-8e4f63121021');\n",
       "var x = new MutationObserver(function (mutations, observer) {{\n",
       "        var display = window.getComputedStyle(gd).display;\n",
       "        if (!display || display === 'none') {{\n",
       "            console.log([gd, 'removed!']);\n",
       "            Plotly.purge(gd);\n",
       "            observer.disconnect();\n",
       "        }}\n",
       "}});\n",
       "\n",
       "// Listen for the removal of the full notebook cells\n",
       "var notebookContainer = gd.closest('#notebook-container');\n",
       "if (notebookContainer) {{\n",
       "    x.observe(notebookContainer, {childList: true});\n",
       "}}\n",
       "\n",
       "// Listen for the clearing of the current output cell\n",
       "var outputEl = gd.closest('.output');\n",
       "if (outputEl) {{\n",
       "    x.observe(outputEl, {childList: true});\n",
       "}}\n",
       "\n",
       "                        })                };                });            </script>        </div>"
      ]
     },
     "metadata": {},
     "output_type": "display_data"
    }
   ],
   "source": [
    "figure = go.FigureWidget(\n",
    "        data=[\n",
    "        go.Scatter(\n",
    "            x=daily[\"time\"],\n",
    "            y=daily[\"et\"],\n",
    "            name=\" et0 \",\n",
    "            \n",
    "        ),\n",
    "        go.Scatter(\n",
    "            x=daily[\"time\"],\n",
    "            y=daily[\"etc\"],\n",
    "            name=\" crop et \",\n",
    "            \n",
    "            \n",
    "        )\n",
    "       \n",
    "               \n",
    "        ]\n",
    "   \n",
    "        )\n",
    "figure.show()"
   ]
  },
  {
   "cell_type": "code",
   "execution_count": 46,
   "id": "c69a0cbf",
   "metadata": {},
   "outputs": [
    {
     "data": {
      "application/vnd.plotly.v1+json": {
       "config": {
        "plotlyServerURL": "https://plot.ly"
       },
       "data": [
        {
         "hovertemplate": "time=%{x}<br>et=%{y}<extra></extra>",
         "legendgroup": "",
         "line": {
          "color": "#636efa",
          "dash": "solid"
         },
         "marker": {
          "symbol": "circle"
         },
         "mode": "lines",
         "name": "",
         "orientation": "v",
         "showlegend": false,
         "type": "scatter",
         "x": [
          "2022-03-31T00:00:00+00:00",
          "2022-04-01T00:00:00+00:00",
          "2022-04-02T00:00:00+00:00",
          "2022-04-03T00:00:00+00:00",
          "2022-04-04T00:00:00+00:00",
          "2022-04-05T00:00:00+00:00",
          "2022-04-06T00:00:00+00:00",
          "2022-04-07T00:00:00+00:00",
          "2022-04-08T00:00:00+00:00",
          "2022-04-09T00:00:00+00:00",
          "2022-04-10T00:00:00+00:00",
          "2022-04-11T00:00:00+00:00",
          "2022-04-12T00:00:00+00:00",
          "2022-04-13T00:00:00+00:00",
          "2022-04-14T00:00:00+00:00",
          "2022-04-15T00:00:00+00:00",
          "2022-04-16T00:00:00+00:00",
          "2022-04-17T00:00:00+00:00",
          "2022-04-18T00:00:00+00:00",
          "2022-04-19T00:00:00+00:00",
          "2022-04-20T00:00:00+00:00",
          "2022-04-21T00:00:00+00:00",
          "2022-04-22T00:00:00+00:00",
          "2022-04-23T00:00:00+00:00",
          "2022-04-24T00:00:00+00:00",
          "2022-04-25T00:00:00+00:00",
          "2022-04-26T00:00:00+00:00",
          "2022-04-27T00:00:00+00:00",
          "2022-04-28T00:00:00+00:00",
          "2022-04-29T00:00:00+00:00",
          "2022-04-30T00:00:00+00:00",
          "2022-05-01T00:00:00+00:00",
          "2022-05-02T00:00:00+00:00",
          "2022-05-03T00:00:00+00:00",
          "2022-05-04T00:00:00+00:00",
          "2022-05-05T00:00:00+00:00",
          "2022-05-06T00:00:00+00:00",
          "2022-05-07T00:00:00+00:00",
          "2022-05-08T00:00:00+00:00",
          "2022-05-09T00:00:00+00:00",
          "2022-05-10T00:00:00+00:00",
          "2022-05-11T00:00:00+00:00",
          "2022-05-12T00:00:00+00:00",
          "2022-05-13T00:00:00+00:00",
          "2022-05-14T00:00:00+00:00",
          "2022-05-15T00:00:00+00:00",
          "2022-05-16T00:00:00+00:00",
          "2022-05-17T00:00:00+00:00",
          "2022-05-18T00:00:00+00:00",
          "2022-05-19T00:00:00+00:00",
          "2022-05-20T00:00:00+00:00",
          "2022-05-21T00:00:00+00:00",
          "2022-05-22T00:00:00+00:00",
          "2022-05-23T00:00:00+00:00",
          "2022-05-24T00:00:00+00:00",
          "2022-05-25T00:00:00+00:00",
          "2022-05-26T00:00:00+00:00",
          "2022-05-27T00:00:00+00:00",
          "2022-05-28T00:00:00+00:00",
          "2022-05-29T00:00:00+00:00",
          "2022-05-30T00:00:00+00:00",
          "2022-05-31T00:00:00+00:00",
          "2022-06-01T00:00:00+00:00",
          "2022-06-02T00:00:00+00:00",
          "2022-06-03T00:00:00+00:00",
          "2022-06-04T00:00:00+00:00",
          "2022-06-05T00:00:00+00:00",
          "2022-06-06T00:00:00+00:00",
          "2022-06-07T00:00:00+00:00",
          "2022-06-08T00:00:00+00:00",
          "2022-06-09T00:00:00+00:00",
          "2022-06-10T00:00:00+00:00",
          "2022-06-11T00:00:00+00:00",
          "2022-06-12T00:00:00+00:00",
          "2022-06-13T00:00:00+00:00",
          "2022-06-14T00:00:00+00:00",
          "2022-06-15T00:00:00+00:00",
          "2022-06-16T00:00:00+00:00",
          "2022-06-17T00:00:00+00:00",
          "2022-06-18T00:00:00+00:00",
          "2022-06-19T00:00:00+00:00",
          "2022-06-20T00:00:00+00:00",
          "2022-06-21T00:00:00+00:00",
          "2022-06-22T00:00:00+00:00",
          "2022-06-23T00:00:00+00:00",
          "2022-06-24T00:00:00+00:00",
          "2022-06-25T00:00:00+00:00",
          "2022-06-26T00:00:00+00:00",
          "2022-06-27T00:00:00+00:00",
          "2022-06-28T00:00:00+00:00",
          "2022-06-29T00:00:00+00:00",
          "2022-06-30T00:00:00+00:00",
          "2022-07-01T00:00:00+00:00",
          "2022-07-02T00:00:00+00:00",
          "2022-07-03T00:00:00+00:00",
          "2022-07-04T00:00:00+00:00",
          "2022-07-05T00:00:00+00:00",
          "2022-07-06T00:00:00+00:00",
          "2022-07-07T00:00:00+00:00",
          "2022-07-08T00:00:00+00:00",
          "2022-07-09T00:00:00+00:00",
          "2022-07-10T00:00:00+00:00",
          "2022-07-11T00:00:00+00:00",
          "2022-07-12T00:00:00+00:00",
          "2022-07-13T00:00:00+00:00",
          "2022-07-14T00:00:00+00:00",
          "2022-07-15T00:00:00+00:00",
          "2022-07-16T00:00:00+00:00",
          "2022-07-17T00:00:00+00:00",
          "2022-07-18T00:00:00+00:00",
          "2022-07-19T00:00:00+00:00",
          "2022-07-20T00:00:00+00:00",
          "2022-07-21T00:00:00+00:00",
          "2022-07-22T00:00:00+00:00",
          "2022-07-23T00:00:00+00:00"
         ],
         "xaxis": "x",
         "y": [
          0,
          0,
          0.14098066,
          0,
          0,
          0.064166665,
          0.75200003,
          1.2149167,
          1.4372064,
          0,
          0,
          0.004166667,
          0,
          3.228592,
          2.0477567,
          4.1558394,
          1.99675,
          0.014333334,
          0.58091664,
          0.7299167,
          0.31733334,
          0.264,
          0.05270875,
          0,
          3.4135,
          0.10152911,
          0,
          0,
          0,
          2.3256729,
          0.0026666666,
          0,
          3.517322,
          0,
          0,
          0,
          0,
          4.2495,
          5.3560834,
          5.542,
          5.4411664,
          5.42175,
          5.6080832,
          5.570667,
          2.6810834,
          4.782583,
          0.61516666,
          0,
          4.7524166,
          5.10425,
          1.8318945,
          4.554255,
          0.011583333,
          3.4474165,
          3.0284135,
          0.32833335,
          5.135083,
          5.7554255,
          6.2106667,
          2.5803332,
          0.0275,
          0,
          0,
          0,
          0,
          0,
          0,
          0,
          0,
          0,
          0,
          0,
          0,
          0,
          0,
          0,
          0,
          0,
          0,
          0,
          0,
          0,
          0,
          0,
          0,
          0,
          0,
          0,
          0,
          0,
          0,
          0,
          0,
          0,
          0,
          0,
          0,
          0,
          0,
          0,
          0,
          0,
          0,
          0,
          0,
          0,
          0,
          0,
          0,
          0,
          0,
          0,
          0,
          0,
          0
         ],
         "yaxis": "y"
        }
       ],
       "layout": {
        "autosize": true,
        "legend": {
         "tracegroupgap": 0
        },
        "margin": {
         "t": 60
        },
        "template": {
         "data": {
          "bar": [
           {
            "error_x": {
             "color": "#2a3f5f"
            },
            "error_y": {
             "color": "#2a3f5f"
            },
            "marker": {
             "line": {
              "color": "#E5ECF6",
              "width": 0.5
             },
             "pattern": {
              "fillmode": "overlay",
              "size": 10,
              "solidity": 0.2
             }
            },
            "type": "bar"
           }
          ],
          "barpolar": [
           {
            "marker": {
             "line": {
              "color": "#E5ECF6",
              "width": 0.5
             },
             "pattern": {
              "fillmode": "overlay",
              "size": 10,
              "solidity": 0.2
             }
            },
            "type": "barpolar"
           }
          ],
          "carpet": [
           {
            "aaxis": {
             "endlinecolor": "#2a3f5f",
             "gridcolor": "white",
             "linecolor": "white",
             "minorgridcolor": "white",
             "startlinecolor": "#2a3f5f"
            },
            "baxis": {
             "endlinecolor": "#2a3f5f",
             "gridcolor": "white",
             "linecolor": "white",
             "minorgridcolor": "white",
             "startlinecolor": "#2a3f5f"
            },
            "type": "carpet"
           }
          ],
          "choropleth": [
           {
            "colorbar": {
             "outlinewidth": 0,
             "ticks": ""
            },
            "type": "choropleth"
           }
          ],
          "contour": [
           {
            "colorbar": {
             "outlinewidth": 0,
             "ticks": ""
            },
            "colorscale": [
             [
              0,
              "#0d0887"
             ],
             [
              0.1111111111111111,
              "#46039f"
             ],
             [
              0.2222222222222222,
              "#7201a8"
             ],
             [
              0.3333333333333333,
              "#9c179e"
             ],
             [
              0.4444444444444444,
              "#bd3786"
             ],
             [
              0.5555555555555556,
              "#d8576b"
             ],
             [
              0.6666666666666666,
              "#ed7953"
             ],
             [
              0.7777777777777778,
              "#fb9f3a"
             ],
             [
              0.8888888888888888,
              "#fdca26"
             ],
             [
              1,
              "#f0f921"
             ]
            ],
            "type": "contour"
           }
          ],
          "contourcarpet": [
           {
            "colorbar": {
             "outlinewidth": 0,
             "ticks": ""
            },
            "type": "contourcarpet"
           }
          ],
          "heatmap": [
           {
            "colorbar": {
             "outlinewidth": 0,
             "ticks": ""
            },
            "colorscale": [
             [
              0,
              "#0d0887"
             ],
             [
              0.1111111111111111,
              "#46039f"
             ],
             [
              0.2222222222222222,
              "#7201a8"
             ],
             [
              0.3333333333333333,
              "#9c179e"
             ],
             [
              0.4444444444444444,
              "#bd3786"
             ],
             [
              0.5555555555555556,
              "#d8576b"
             ],
             [
              0.6666666666666666,
              "#ed7953"
             ],
             [
              0.7777777777777778,
              "#fb9f3a"
             ],
             [
              0.8888888888888888,
              "#fdca26"
             ],
             [
              1,
              "#f0f921"
             ]
            ],
            "type": "heatmap"
           }
          ],
          "heatmapgl": [
           {
            "colorbar": {
             "outlinewidth": 0,
             "ticks": ""
            },
            "colorscale": [
             [
              0,
              "#0d0887"
             ],
             [
              0.1111111111111111,
              "#46039f"
             ],
             [
              0.2222222222222222,
              "#7201a8"
             ],
             [
              0.3333333333333333,
              "#9c179e"
             ],
             [
              0.4444444444444444,
              "#bd3786"
             ],
             [
              0.5555555555555556,
              "#d8576b"
             ],
             [
              0.6666666666666666,
              "#ed7953"
             ],
             [
              0.7777777777777778,
              "#fb9f3a"
             ],
             [
              0.8888888888888888,
              "#fdca26"
             ],
             [
              1,
              "#f0f921"
             ]
            ],
            "type": "heatmapgl"
           }
          ],
          "histogram": [
           {
            "marker": {
             "pattern": {
              "fillmode": "overlay",
              "size": 10,
              "solidity": 0.2
             }
            },
            "type": "histogram"
           }
          ],
          "histogram2d": [
           {
            "colorbar": {
             "outlinewidth": 0,
             "ticks": ""
            },
            "colorscale": [
             [
              0,
              "#0d0887"
             ],
             [
              0.1111111111111111,
              "#46039f"
             ],
             [
              0.2222222222222222,
              "#7201a8"
             ],
             [
              0.3333333333333333,
              "#9c179e"
             ],
             [
              0.4444444444444444,
              "#bd3786"
             ],
             [
              0.5555555555555556,
              "#d8576b"
             ],
             [
              0.6666666666666666,
              "#ed7953"
             ],
             [
              0.7777777777777778,
              "#fb9f3a"
             ],
             [
              0.8888888888888888,
              "#fdca26"
             ],
             [
              1,
              "#f0f921"
             ]
            ],
            "type": "histogram2d"
           }
          ],
          "histogram2dcontour": [
           {
            "colorbar": {
             "outlinewidth": 0,
             "ticks": ""
            },
            "colorscale": [
             [
              0,
              "#0d0887"
             ],
             [
              0.1111111111111111,
              "#46039f"
             ],
             [
              0.2222222222222222,
              "#7201a8"
             ],
             [
              0.3333333333333333,
              "#9c179e"
             ],
             [
              0.4444444444444444,
              "#bd3786"
             ],
             [
              0.5555555555555556,
              "#d8576b"
             ],
             [
              0.6666666666666666,
              "#ed7953"
             ],
             [
              0.7777777777777778,
              "#fb9f3a"
             ],
             [
              0.8888888888888888,
              "#fdca26"
             ],
             [
              1,
              "#f0f921"
             ]
            ],
            "type": "histogram2dcontour"
           }
          ],
          "mesh3d": [
           {
            "colorbar": {
             "outlinewidth": 0,
             "ticks": ""
            },
            "type": "mesh3d"
           }
          ],
          "parcoords": [
           {
            "line": {
             "colorbar": {
              "outlinewidth": 0,
              "ticks": ""
             }
            },
            "type": "parcoords"
           }
          ],
          "pie": [
           {
            "automargin": true,
            "type": "pie"
           }
          ],
          "scatter": [
           {
            "marker": {
             "colorbar": {
              "outlinewidth": 0,
              "ticks": ""
             }
            },
            "type": "scatter"
           }
          ],
          "scatter3d": [
           {
            "line": {
             "colorbar": {
              "outlinewidth": 0,
              "ticks": ""
             }
            },
            "marker": {
             "colorbar": {
              "outlinewidth": 0,
              "ticks": ""
             }
            },
            "type": "scatter3d"
           }
          ],
          "scattercarpet": [
           {
            "marker": {
             "colorbar": {
              "outlinewidth": 0,
              "ticks": ""
             }
            },
            "type": "scattercarpet"
           }
          ],
          "scattergeo": [
           {
            "marker": {
             "colorbar": {
              "outlinewidth": 0,
              "ticks": ""
             }
            },
            "type": "scattergeo"
           }
          ],
          "scattergl": [
           {
            "marker": {
             "colorbar": {
              "outlinewidth": 0,
              "ticks": ""
             }
            },
            "type": "scattergl"
           }
          ],
          "scattermapbox": [
           {
            "marker": {
             "colorbar": {
              "outlinewidth": 0,
              "ticks": ""
             }
            },
            "type": "scattermapbox"
           }
          ],
          "scatterpolar": [
           {
            "marker": {
             "colorbar": {
              "outlinewidth": 0,
              "ticks": ""
             }
            },
            "type": "scatterpolar"
           }
          ],
          "scatterpolargl": [
           {
            "marker": {
             "colorbar": {
              "outlinewidth": 0,
              "ticks": ""
             }
            },
            "type": "scatterpolargl"
           }
          ],
          "scatterternary": [
           {
            "marker": {
             "colorbar": {
              "outlinewidth": 0,
              "ticks": ""
             }
            },
            "type": "scatterternary"
           }
          ],
          "surface": [
           {
            "colorbar": {
             "outlinewidth": 0,
             "ticks": ""
            },
            "colorscale": [
             [
              0,
              "#0d0887"
             ],
             [
              0.1111111111111111,
              "#46039f"
             ],
             [
              0.2222222222222222,
              "#7201a8"
             ],
             [
              0.3333333333333333,
              "#9c179e"
             ],
             [
              0.4444444444444444,
              "#bd3786"
             ],
             [
              0.5555555555555556,
              "#d8576b"
             ],
             [
              0.6666666666666666,
              "#ed7953"
             ],
             [
              0.7777777777777778,
              "#fb9f3a"
             ],
             [
              0.8888888888888888,
              "#fdca26"
             ],
             [
              1,
              "#f0f921"
             ]
            ],
            "type": "surface"
           }
          ],
          "table": [
           {
            "cells": {
             "fill": {
              "color": "#EBF0F8"
             },
             "line": {
              "color": "white"
             }
            },
            "header": {
             "fill": {
              "color": "#C8D4E3"
             },
             "line": {
              "color": "white"
             }
            },
            "type": "table"
           }
          ]
         },
         "layout": {
          "annotationdefaults": {
           "arrowcolor": "#2a3f5f",
           "arrowhead": 0,
           "arrowwidth": 1
          },
          "autotypenumbers": "strict",
          "coloraxis": {
           "colorbar": {
            "outlinewidth": 0,
            "ticks": ""
           }
          },
          "colorscale": {
           "diverging": [
            [
             0,
             "#8e0152"
            ],
            [
             0.1,
             "#c51b7d"
            ],
            [
             0.2,
             "#de77ae"
            ],
            [
             0.3,
             "#f1b6da"
            ],
            [
             0.4,
             "#fde0ef"
            ],
            [
             0.5,
             "#f7f7f7"
            ],
            [
             0.6,
             "#e6f5d0"
            ],
            [
             0.7,
             "#b8e186"
            ],
            [
             0.8,
             "#7fbc41"
            ],
            [
             0.9,
             "#4d9221"
            ],
            [
             1,
             "#276419"
            ]
           ],
           "sequential": [
            [
             0,
             "#0d0887"
            ],
            [
             0.1111111111111111,
             "#46039f"
            ],
            [
             0.2222222222222222,
             "#7201a8"
            ],
            [
             0.3333333333333333,
             "#9c179e"
            ],
            [
             0.4444444444444444,
             "#bd3786"
            ],
            [
             0.5555555555555556,
             "#d8576b"
            ],
            [
             0.6666666666666666,
             "#ed7953"
            ],
            [
             0.7777777777777778,
             "#fb9f3a"
            ],
            [
             0.8888888888888888,
             "#fdca26"
            ],
            [
             1,
             "#f0f921"
            ]
           ],
           "sequentialminus": [
            [
             0,
             "#0d0887"
            ],
            [
             0.1111111111111111,
             "#46039f"
            ],
            [
             0.2222222222222222,
             "#7201a8"
            ],
            [
             0.3333333333333333,
             "#9c179e"
            ],
            [
             0.4444444444444444,
             "#bd3786"
            ],
            [
             0.5555555555555556,
             "#d8576b"
            ],
            [
             0.6666666666666666,
             "#ed7953"
            ],
            [
             0.7777777777777778,
             "#fb9f3a"
            ],
            [
             0.8888888888888888,
             "#fdca26"
            ],
            [
             1,
             "#f0f921"
            ]
           ]
          },
          "colorway": [
           "#636efa",
           "#EF553B",
           "#00cc96",
           "#ab63fa",
           "#FFA15A",
           "#19d3f3",
           "#FF6692",
           "#B6E880",
           "#FF97FF",
           "#FECB52"
          ],
          "font": {
           "color": "#2a3f5f"
          },
          "geo": {
           "bgcolor": "white",
           "lakecolor": "white",
           "landcolor": "#E5ECF6",
           "showlakes": true,
           "showland": true,
           "subunitcolor": "white"
          },
          "hoverlabel": {
           "align": "left"
          },
          "hovermode": "closest",
          "mapbox": {
           "style": "light"
          },
          "paper_bgcolor": "white",
          "plot_bgcolor": "#E5ECF6",
          "polar": {
           "angularaxis": {
            "gridcolor": "white",
            "linecolor": "white",
            "ticks": ""
           },
           "bgcolor": "#E5ECF6",
           "radialaxis": {
            "gridcolor": "white",
            "linecolor": "white",
            "ticks": ""
           }
          },
          "scene": {
           "xaxis": {
            "backgroundcolor": "#E5ECF6",
            "gridcolor": "white",
            "gridwidth": 2,
            "linecolor": "white",
            "showbackground": true,
            "ticks": "",
            "zerolinecolor": "white"
           },
           "yaxis": {
            "backgroundcolor": "#E5ECF6",
            "gridcolor": "white",
            "gridwidth": 2,
            "linecolor": "white",
            "showbackground": true,
            "ticks": "",
            "zerolinecolor": "white"
           },
           "zaxis": {
            "backgroundcolor": "#E5ECF6",
            "gridcolor": "white",
            "gridwidth": 2,
            "linecolor": "white",
            "showbackground": true,
            "ticks": "",
            "zerolinecolor": "white"
           }
          },
          "shapedefaults": {
           "line": {
            "color": "#2a3f5f"
           }
          },
          "ternary": {
           "aaxis": {
            "gridcolor": "white",
            "linecolor": "white",
            "ticks": ""
           },
           "baxis": {
            "gridcolor": "white",
            "linecolor": "white",
            "ticks": ""
           },
           "bgcolor": "#E5ECF6",
           "caxis": {
            "gridcolor": "white",
            "linecolor": "white",
            "ticks": ""
           }
          },
          "title": {
           "x": 0.05
          },
          "xaxis": {
           "automargin": true,
           "gridcolor": "white",
           "linecolor": "white",
           "ticks": "",
           "title": {
            "standoff": 15
           },
           "zerolinecolor": "white",
           "zerolinewidth": 2
          },
          "yaxis": {
           "automargin": true,
           "gridcolor": "white",
           "linecolor": "white",
           "ticks": "",
           "title": {
            "standoff": 15
           },
           "zerolinecolor": "white",
           "zerolinewidth": 2
          }
         }
        },
        "xaxis": {
         "anchor": "y",
         "autorange": true,
         "domain": [
          0,
          1
         ],
         "range": [
          "2022-03-31",
          "2022-07-23"
         ],
         "title": {
          "text": "time"
         },
         "type": "date"
        },
        "yaxis": {
         "anchor": "x",
         "autorange": true,
         "domain": [
          0,
          1
         ],
         "range": [
          -0.3450370388888889,
          6.555703738888889
         ],
         "title": {
          "text": "et"
         },
         "type": "linear"
        }
       }
      },
      "image/png": "[encoded data removed]",
      "text/html": [
       "<div>                            <div id=\"94053d03-c4cb-4af9-b8c1-c4e87221a5b3\" class=\"plotly-graph-div\" style=\"height:525px; width:100%;\"></div>            <script type=\"text/javascript\">                require([\"plotly\"], function(Plotly) {                    window.PLOTLYENV=window.PLOTLYENV || {};                                    if (document.getElementById(\"94053d03-c4cb-4af9-b8c1-c4e87221a5b3\")) {                    Plotly.newPlot(                        \"94053d03-c4cb-4af9-b8c1-c4e87221a5b3\",                        [{\"hovertemplate\":\"time=%{x}<br>et=%{y}<extra></extra>\",\"legendgroup\":\"\",\"line\":{\"color\":\"#636efa\",\"dash\":\"solid\"},\"marker\":{\"symbol\":\"circle\"},\"mode\":\"lines\",\"name\":\"\",\"orientation\":\"v\",\"showlegend\":false,\"x\":[\"2022-03-31T00:00:00+00:00\",\"2022-04-01T00:00:00+00:00\",\"2022-04-02T00:00:00+00:00\",\"2022-04-03T00:00:00+00:00\",\"2022-04-04T00:00:00+00:00\",\"2022-04-05T00:00:00+00:00\",\"2022-04-06T00:00:00+00:00\",\"2022-04-07T00:00:00+00:00\",\"2022-04-08T00:00:00+00:00\",\"2022-04-09T00:00:00+00:00\",\"2022-04-10T00:00:00+00:00\",\"2022-04-11T00:00:00+00:00\",\"2022-04-12T00:00:00+00:00\",\"2022-04-13T00:00:00+00:00\",\"2022-04-14T00:00:00+00:00\",\"2022-04-15T00:00:00+00:00\",\"2022-04-16T00:00:00+00:00\",\"2022-04-17T00:00:00+00:00\",\"2022-04-18T00:00:00+00:00\",\"2022-04-19T00:00:00+00:00\",\"2022-04-20T00:00:00+00:00\",\"2022-04-21T00:00:00+00:00\",\"2022-04-22T00:00:00+00:00\",\"2022-04-23T00:00:00+00:00\",\"2022-04-24T00:00:00+00:00\",\"2022-04-25T00:00:00+00:00\",\"2022-04-26T00:00:00+00:00\",\"2022-04-27T00:00:00+00:00\",\"2022-04-28T00:00:00+00:00\",\"2022-04-29T00:00:00+00:00\",\"2022-04-30T00:00:00+00:00\",\"2022-05-01T00:00:00+00:00\",\"2022-05-02T00:00:00+00:00\",\"2022-05-03T00:00:00+00:00\",\"2022-05-04T00:00:00+00:00\",\"2022-05-05T00:00:00+00:00\",\"2022-05-06T00:00:00+00:00\",\"2022-05-07T00:00:00+00:00\",\"2022-05-08T00:00:00+00:00\",\"2022-05-09T00:00:00+00:00\",\"2022-05-10T00:00:00+00:00\",\"2022-05-11T00:00:00+00:00\",\"2022-05-12T00:00:00+00:00\",\"2022-05-13T00:00:00+00:00\",\"2022-05-14T00:00:00+00:00\",\"2022-05-15T00:00:00+00:00\",\"2022-05-16T00:00:00+00:00\",\"2022-05-17T00:00:00+00:00\",\"2022-05-18T00:00:00+00:00\",\"2022-05-19T00:00:00+00:00\",\"2022-05-20T00:00:00+00:00\",\"2022-05-21T00:00:00+00:00\",\"2022-05-22T00:00:00+00:00\",\"2022-05-23T00:00:00+00:00\",\"2022-05-24T00:00:00+00:00\",\"2022-05-25T00:00:00+00:00\",\"2022-05-26T00:00:00+00:00\",\"2022-05-27T00:00:00+00:00\",\"2022-05-28T00:00:00+00:00\",\"2022-05-29T00:00:00+00:00\",\"2022-05-30T00:00:00+00:00\",\"2022-05-31T00:00:00+00:00\",\"2022-06-01T00:00:00+00:00\",\"2022-06-02T00:00:00+00:00\",\"2022-06-03T00:00:00+00:00\",\"2022-06-04T00:00:00+00:00\",\"2022-06-05T00:00:00+00:00\",\"2022-06-06T00:00:00+00:00\",\"2022-06-07T00:00:00+00:00\",\"2022-06-08T00:00:00+00:00\",\"2022-06-09T00:00:00+00:00\",\"2022-06-10T00:00:00+00:00\",\"2022-06-11T00:00:00+00:00\",\"2022-06-12T00:00:00+00:00\",\"2022-06-13T00:00:00+00:00\",\"2022-06-14T00:00:00+00:00\",\"2022-06-15T00:00:00+00:00\",\"2022-06-16T00:00:00+00:00\",\"2022-06-17T00:00:00+00:00\",\"2022-06-18T00:00:00+00:00\",\"2022-06-19T00:00:00+00:00\",\"2022-06-20T00:00:00+00:00\",\"2022-06-21T00:00:00+00:00\",\"2022-06-22T00:00:00+00:00\",\"2022-06-23T00:00:00+00:00\",\"2022-06-24T00:00:00+00:00\",\"2022-06-25T00:00:00+00:00\",\"2022-06-26T00:00:00+00:00\",\"2022-06-27T00:00:00+00:00\",\"2022-06-28T00:00:00+00:00\",\"2022-06-29T00:00:00+00:00\",\"2022-06-30T00:00:00+00:00\",\"2022-07-01T00:00:00+00:00\",\"2022-07-02T00:00:00+00:00\",\"2022-07-03T00:00:00+00:00\",\"2022-07-04T00:00:00+00:00\",\"2022-07-05T00:00:00+00:00\",\"2022-07-06T00:00:00+00:00\",\"2022-07-07T00:00:00+00:00\",\"2022-07-08T00:00:00+00:00\",\"2022-07-09T00:00:00+00:00\",\"2022-07-10T00:00:00+00:00\",\"2022-07-11T00:00:00+00:00\",\"2022-07-12T00:00:00+00:00\",\"2022-07-13T00:00:00+00:00\",\"2022-07-14T00:00:00+00:00\",\"2022-07-15T00:00:00+00:00\",\"2022-07-16T00:00:00+00:00\",\"2022-07-17T00:00:00+00:00\",\"2022-07-18T00:00:00+00:00\",\"2022-07-19T00:00:00+00:00\",\"2022-07-20T00:00:00+00:00\",\"2022-07-21T00:00:00+00:00\",\"2022-07-22T00:00:00+00:00\",\"2022-07-23T00:00:00+00:00\"],\"xaxis\":\"x\",\"y\":[0.0,0.0,0.14098066,0.0,0.0,0.064166665,0.75200003,1.2149167,1.4372064,0.0,0.0,0.004166667,0.0,3.228592,2.0477567,4.1558394,1.99675,0.014333334,0.58091664,0.7299167,0.31733334,0.264,0.05270875,0.0,3.4135,0.10152911,0.0,0.0,0.0,2.3256729,0.0026666666,0.0,3.517322,0.0,0.0,0.0,0.0,4.2495,5.3560834,5.542,5.4411664,5.42175,5.6080832,5.570667,2.6810834,4.782583,0.61516666,0.0,4.7524166,5.10425,1.8318945,4.554255,0.011583333,3.4474165,3.0284135,0.32833335,5.135083,5.7554255,6.2106667,2.5803332,0.0275,0.0,0.0,0.0,0.0,0.0,0.0,0.0,0.0,0.0,0.0,0.0,0.0,0.0,0.0,0.0,0.0,0.0,0.0,0.0,0.0,0.0,0.0,0.0,0.0,0.0,0.0,0.0,0.0,0.0,0.0,0.0,0.0,0.0,0.0,0.0,0.0,0.0,0.0,0.0,0.0,0.0,0.0,0.0,0.0,0.0,0.0,0.0,0.0,0.0,0.0,0.0,0.0,0.0,0.0],\"yaxis\":\"y\",\"type\":\"scatter\"}],                        {\"template\":{\"data\":{\"bar\":[{\"error_x\":{\"color\":\"#2a3f5f\"},\"error_y\":{\"color\":\"#2a3f5f\"},\"marker\":{\"line\":{\"color\":\"#E5ECF6\",\"width\":0.5},\"pattern\":{\"fillmode\":\"overlay\",\"size\":10,\"solidity\":0.2}},\"type\":\"bar\"}],\"barpolar\":[{\"marker\":{\"line\":{\"color\":\"#E5ECF6\",\"width\":0.5},\"pattern\":{\"fillmode\":\"overlay\",\"size\":10,\"solidity\":0.2}},\"type\":\"barpolar\"}],\"carpet\":[{\"aaxis\":{\"endlinecolor\":\"#2a3f5f\",\"gridcolor\":\"white\",\"linecolor\":\"white\",\"minorgridcolor\":\"white\",\"startlinecolor\":\"#2a3f5f\"},\"baxis\":{\"endlinecolor\":\"#2a3f5f\",\"gridcolor\":\"white\",\"linecolor\":\"white\",\"minorgridcolor\":\"white\",\"startlinecolor\":\"#2a3f5f\"},\"type\":\"carpet\"}],\"choropleth\":[{\"colorbar\":{\"outlinewidth\":0,\"ticks\":\"\"},\"type\":\"choropleth\"}],\"contour\":[{\"colorbar\":{\"outlinewidth\":0,\"ticks\":\"\"},\"colorscale\":[[0.0,\"#0d0887\"],[0.1111111111111111,\"#46039f\"],[0.2222222222222222,\"#7201a8\"],[0.3333333333333333,\"#9c179e\"],[0.4444444444444444,\"#bd3786\"],[0.5555555555555556,\"#d8576b\"],[0.6666666666666666,\"#ed7953\"],[0.7777777777777778,\"#fb9f3a\"],[0.8888888888888888,\"#fdca26\"],[1.0,\"#f0f921\"]],\"type\":\"contour\"}],\"contourcarpet\":[{\"colorbar\":{\"outlinewidth\":0,\"ticks\":\"\"},\"type\":\"contourcarpet\"}],\"heatmap\":[{\"colorbar\":{\"outlinewidth\":0,\"ticks\":\"\"},\"colorscale\":[[0.0,\"#0d0887\"],[0.1111111111111111,\"#46039f\"],[0.2222222222222222,\"#7201a8\"],[0.3333333333333333,\"#9c179e\"],[0.4444444444444444,\"#bd3786\"],[0.5555555555555556,\"#d8576b\"],[0.6666666666666666,\"#ed7953\"],[0.7777777777777778,\"#fb9f3a\"],[0.8888888888888888,\"#fdca26\"],[1.0,\"#f0f921\"]],\"type\":\"heatmap\"}],\"heatmapgl\":[{\"colorbar\":{\"outlinewidth\":0,\"ticks\":\"\"},\"colorscale\":[[0.0,\"#0d0887\"],[0.1111111111111111,\"#46039f\"],[0.2222222222222222,\"#7201a8\"],[0.3333333333333333,\"#9c179e\"],[0.4444444444444444,\"#bd3786\"],[0.5555555555555556,\"#d8576b\"],[0.6666666666666666,\"#ed7953\"],[0.7777777777777778,\"#fb9f3a\"],[0.8888888888888888,\"#fdca26\"],[1.0,\"#f0f921\"]],\"type\":\"heatmapgl\"}],\"histogram\":[{\"marker\":{\"pattern\":{\"fillmode\":\"overlay\",\"size\":10,\"solidity\":0.2}},\"type\":\"histogram\"}],\"histogram2d\":[{\"colorbar\":{\"outlinewidth\":0,\"ticks\":\"\"},\"colorscale\":[[0.0,\"#0d0887\"],[0.1111111111111111,\"#46039f\"],[0.2222222222222222,\"#7201a8\"],[0.3333333333333333,\"#9c179e\"],[0.4444444444444444,\"#bd3786\"],[0.5555555555555556,\"#d8576b\"],[0.6666666666666666,\"#ed7953\"],[0.7777777777777778,\"#fb9f3a\"],[0.8888888888888888,\"#fdca26\"],[1.0,\"#f0f921\"]],\"type\":\"histogram2d\"}],\"histogram2dcontour\":[{\"colorbar\":{\"outlinewidth\":0,\"ticks\":\"\"},\"colorscale\":[[0.0,\"#0d0887\"],[0.1111111111111111,\"#46039f\"],[0.2222222222222222,\"#7201a8\"],[0.3333333333333333,\"#9c179e\"],[0.4444444444444444,\"#bd3786\"],[0.5555555555555556,\"#d8576b\"],[0.6666666666666666,\"#ed7953\"],[0.7777777777777778,\"#fb9f3a\"],[0.8888888888888888,\"#fdca26\"],[1.0,\"#f0f921\"]],\"type\":\"histogram2dcontour\"}],\"mesh3d\":[{\"colorbar\":{\"outlinewidth\":0,\"ticks\":\"\"},\"type\":\"mesh3d\"}],\"parcoords\":[{\"line\":{\"colorbar\":{\"outlinewidth\":0,\"ticks\":\"\"}},\"type\":\"parcoords\"}],\"pie\":[{\"automargin\":true,\"type\":\"pie\"}],\"scatter\":[{\"marker\":{\"colorbar\":{\"outlinewidth\":0,\"ticks\":\"\"}},\"type\":\"scatter\"}],\"scatter3d\":[{\"line\":{\"colorbar\":{\"outlinewidth\":0,\"ticks\":\"\"}},\"marker\":{\"colorbar\":{\"outlinewidth\":0,\"ticks\":\"\"}},\"type\":\"scatter3d\"}],\"scattercarpet\":[{\"marker\":{\"colorbar\":{\"outlinewidth\":0,\"ticks\":\"\"}},\"type\":\"scattercarpet\"}],\"scattergeo\":[{\"marker\":{\"colorbar\":{\"outlinewidth\":0,\"ticks\":\"\"}},\"type\":\"scattergeo\"}],\"scattergl\":[{\"marker\":{\"colorbar\":{\"outlinewidth\":0,\"ticks\":\"\"}},\"type\":\"scattergl\"}],\"scattermapbox\":[{\"marker\":{\"colorbar\":{\"outlinewidth\":0,\"ticks\":\"\"}},\"type\":\"scattermapbox\"}],\"scatterpolar\":[{\"marker\":{\"colorbar\":{\"outlinewidth\":0,\"ticks\":\"\"}},\"type\":\"scatterpolar\"}],\"scatterpolargl\":[{\"marker\":{\"colorbar\":{\"outlinewidth\":0,\"ticks\":\"\"}},\"type\":\"scatterpolargl\"}],\"scatterternary\":[{\"marker\":{\"colorbar\":{\"outlinewidth\":0,\"ticks\":\"\"}},\"type\":\"scatterternary\"}],\"surface\":[{\"colorbar\":{\"outlinewidth\":0,\"ticks\":\"\"},\"colorscale\":[[0.0,\"#0d0887\"],[0.1111111111111111,\"#46039f\"],[0.2222222222222222,\"#7201a8\"],[0.3333333333333333,\"#9c179e\"],[0.4444444444444444,\"#bd3786\"],[0.5555555555555556,\"#d8576b\"],[0.6666666666666666,\"#ed7953\"],[0.7777777777777778,\"#fb9f3a\"],[0.8888888888888888,\"#fdca26\"],[1.0,\"#f0f921\"]],\"type\":\"surface\"}],\"table\":[{\"cells\":{\"fill\":{\"color\":\"#EBF0F8\"},\"line\":{\"color\":\"white\"}},\"header\":{\"fill\":{\"color\":\"#C8D4E3\"},\"line\":{\"color\":\"white\"}},\"type\":\"table\"}]},\"layout\":{\"annotationdefaults\":{\"arrowcolor\":\"#2a3f5f\",\"arrowhead\":0,\"arrowwidth\":1},\"autotypenumbers\":\"strict\",\"coloraxis\":{\"colorbar\":{\"outlinewidth\":0,\"ticks\":\"\"}},\"colorscale\":{\"diverging\":[[0,\"#8e0152\"],[0.1,\"#c51b7d\"],[0.2,\"#de77ae\"],[0.3,\"#f1b6da\"],[0.4,\"#fde0ef\"],[0.5,\"#f7f7f7\"],[0.6,\"#e6f5d0\"],[0.7,\"#b8e186\"],[0.8,\"#7fbc41\"],[0.9,\"#4d9221\"],[1,\"#276419\"]],\"sequential\":[[0.0,\"#0d0887\"],[0.1111111111111111,\"#46039f\"],[0.2222222222222222,\"#7201a8\"],[0.3333333333333333,\"#9c179e\"],[0.4444444444444444,\"#bd3786\"],[0.5555555555555556,\"#d8576b\"],[0.6666666666666666,\"#ed7953\"],[0.7777777777777778,\"#fb9f3a\"],[0.8888888888888888,\"#fdca26\"],[1.0,\"#f0f921\"]],\"sequentialminus\":[[0.0,\"#0d0887\"],[0.1111111111111111,\"#46039f\"],[0.2222222222222222,\"#7201a8\"],[0.3333333333333333,\"#9c179e\"],[0.4444444444444444,\"#bd3786\"],[0.5555555555555556,\"#d8576b\"],[0.6666666666666666,\"#ed7953\"],[0.7777777777777778,\"#fb9f3a\"],[0.8888888888888888,\"#fdca26\"],[1.0,\"#f0f921\"]]},\"colorway\":[\"#636efa\",\"#EF553B\",\"#00cc96\",\"#ab63fa\",\"#FFA15A\",\"#19d3f3\",\"#FF6692\",\"#B6E880\",\"#FF97FF\",\"#FECB52\"],\"font\":{\"color\":\"#2a3f5f\"},\"geo\":{\"bgcolor\":\"white\",\"lakecolor\":\"white\",\"landcolor\":\"#E5ECF6\",\"showlakes\":true,\"showland\":true,\"subunitcolor\":\"white\"},\"hoverlabel\":{\"align\":\"left\"},\"hovermode\":\"closest\",\"mapbox\":{\"style\":\"light\"},\"paper_bgcolor\":\"white\",\"plot_bgcolor\":\"#E5ECF6\",\"polar\":{\"angularaxis\":{\"gridcolor\":\"white\",\"linecolor\":\"white\",\"ticks\":\"\"},\"bgcolor\":\"#E5ECF6\",\"radialaxis\":{\"gridcolor\":\"white\",\"linecolor\":\"white\",\"ticks\":\"\"}},\"scene\":{\"xaxis\":{\"backgroundcolor\":\"#E5ECF6\",\"gridcolor\":\"white\",\"gridwidth\":2,\"linecolor\":\"white\",\"showbackground\":true,\"ticks\":\"\",\"zerolinecolor\":\"white\"},\"yaxis\":{\"backgroundcolor\":\"#E5ECF6\",\"gridcolor\":\"white\",\"gridwidth\":2,\"linecolor\":\"white\",\"showbackground\":true,\"ticks\":\"\",\"zerolinecolor\":\"white\"},\"zaxis\":{\"backgroundcolor\":\"#E5ECF6\",\"gridcolor\":\"white\",\"gridwidth\":2,\"linecolor\":\"white\",\"showbackground\":true,\"ticks\":\"\",\"zerolinecolor\":\"white\"}},\"shapedefaults\":{\"line\":{\"color\":\"#2a3f5f\"}},\"ternary\":{\"aaxis\":{\"gridcolor\":\"white\",\"linecolor\":\"white\",\"ticks\":\"\"},\"baxis\":{\"gridcolor\":\"white\",\"linecolor\":\"white\",\"ticks\":\"\"},\"bgcolor\":\"#E5ECF6\",\"caxis\":{\"gridcolor\":\"white\",\"linecolor\":\"white\",\"ticks\":\"\"}},\"title\":{\"x\":0.05},\"xaxis\":{\"automargin\":true,\"gridcolor\":\"white\",\"linecolor\":\"white\",\"ticks\":\"\",\"title\":{\"standoff\":15},\"zerolinecolor\":\"white\",\"zerolinewidth\":2},\"yaxis\":{\"automargin\":true,\"gridcolor\":\"white\",\"linecolor\":\"white\",\"ticks\":\"\",\"title\":{\"standoff\":15},\"zerolinecolor\":\"white\",\"zerolinewidth\":2}}},\"xaxis\":{\"anchor\":\"y\",\"domain\":[0.0,1.0],\"title\":{\"text\":\"time\"}},\"yaxis\":{\"anchor\":\"x\",\"domain\":[0.0,1.0],\"title\":{\"text\":\"et\"}},\"legend\":{\"tracegroupgap\":0},\"margin\":{\"t\":60}},                        {\"responsive\": true}                    ).then(function(){\n",
       "                            \n",
       "var gd = document.getElementById('94053d03-c4cb-4af9-b8c1-c4e87221a5b3');\n",
       "var x = new MutationObserver(function (mutations, observer) {{\n",
       "        var display = window.getComputedStyle(gd).display;\n",
       "        if (!display || display === 'none') {{\n",
       "            console.log([gd, 'removed!']);\n",
       "            Plotly.purge(gd);\n",
       "            observer.disconnect();\n",
       "        }}\n",
       "}});\n",
       "\n",
       "// Listen for the removal of the full notebook cells\n",
       "var notebookContainer = gd.closest('#notebook-container');\n",
       "if (notebookContainer) {{\n",
       "    x.observe(notebookContainer, {childList: true});\n",
       "}}\n",
       "\n",
       "// Listen for the clearing of the current output cell\n",
       "var outputEl = gd.closest('.output');\n",
       "if (outputEl) {{\n",
       "    x.observe(outputEl, {childList: true});\n",
       "}}\n",
       "\n",
       "                        })                };                });            </script>        </div>"
      ]
     },
     "metadata": {},
     "output_type": "display_data"
    }
   ],
   "source": [
    "fig = px.line(\n",
    "    daily, x=\"time\", y=\"et\"\n",
    ")\n",
    "fig.show()"
   ]
  },
  {
   "cell_type": "code",
   "execution_count": 47,
   "id": "be585dd1",
   "metadata": {},
   "outputs": [
    {
     "data": {
      "text/plain": [
       "[<matplotlib.lines.Line2D at 0x7fd9e45ed550>]"
      ]
     },
     "execution_count": 47,
     "metadata": {},
     "output_type": "execute_result"
    },
    {
     "data": {
      "image/png": "[encoded data removed]",
      "text/plain": [
       "<Figure size 1080x576 with 1 Axes>"
      ]
     },
     "metadata": {
      "needs_background": "light"
     },
     "output_type": "display_data"
    }
   ],
   "source": [
    "plt.plot(filtered_df['time'], filtered_df['tair'] )"
   ]
  },
  {
   "cell_type": "code",
   "execution_count": 48,
   "id": "ba9078b5",
   "metadata": {},
   "outputs": [
    {
     "data": {
      "text/plain": [
       "[<matplotlib.lines.Line2D at 0x7fd9e3c2cbe0>]"
      ]
     },
     "execution_count": 48,
     "metadata": {},
     "output_type": "execute_result"
    },
    {
     "data": {
      "image/png": "[encoded data removed]",
      "text/plain": [
       "<Figure size 1080x576 with 1 Axes>"
      ]
     },
     "metadata": {
      "needs_background": "light"
     },
     "output_type": "display_data"
    }
   ],
   "source": [
    "plt.plot(daily['time'], daily['swdw'], label = 'daily' )"
   ]
  },
  {
   "cell_type": "code",
   "execution_count": 49,
   "id": "0c068c17",
   "metadata": {},
   "outputs": [
    {
     "data": {
      "text/plain": [
       "[<matplotlib.lines.Line2D at 0x7fd9e39482e8>]"
      ]
     },
     "execution_count": 49,
     "metadata": {},
     "output_type": "execute_result"
    },
    {
     "data": {
      "image/png": "[encoded data removed]",
      "text/plain": [
       "<Figure size 1080x576 with 1 Axes>"
      ]
     },
     "metadata": {
      "needs_background": "light"
     },
     "output_type": "display_data"
    }
   ],
   "source": [
    "plt.plot(daily['time'], daily['mean_rh'], label = 'daily' )"
   ]
  },
  {
   "cell_type": "code",
   "execution_count": 50,
   "id": "2d3e342b",
   "metadata": {},
   "outputs": [
    {
     "data": {
      "text/plain": [
       "[<matplotlib.lines.Line2D at 0x7fd9e3efcbe0>]"
      ]
     },
     "execution_count": 50,
     "metadata": {},
     "output_type": "execute_result"
    },
    {
     "data": {
      "image/png": "[encoded data removed]",
      "text/plain": [
       "<Figure size 1080x576 with 1 Axes>"
      ]
     },
     "metadata": {
      "needs_background": "light"
     },
     "output_type": "display_data"
    }
   ],
   "source": [
    "plt.plot(daily['time'], daily['meant'], label = 'daily' )"
   ]
  },
  {
   "cell_type": "markdown",
   "id": "a7eb9c2a",
   "metadata": {},
   "source": [
    "### pulling data another way"
   ]
  },
  {
   "cell_type": "code",
   "execution_count": 51,
   "id": "2c2b205e",
   "metadata": {},
   "outputs": [],
   "source": [
    "def get_data(table, columns, begin, end, device):\n",
    "    \n",
    "#     connection = pg.connect(user = d['username'],\n",
    "#                             password = d['password'],\n",
    "#                             host = d['host'],\n",
    "#                             port = d['port'],\n",
    "#                             database = d['database'])\n",
    "    connection = pg.connect(user = d['alp_user'],\n",
    "                            password = d['alp_pword'],\n",
    "                            host = d['alp_host'],\n",
    "                            port = d['alp_port'],\n",
    "                            database = d['alp_db'])\n",
    "\n",
    "    df = psql.read_sql(\n",
    "        \"SELECT\" + columns + \" FROM device_data.\" + table + \" WHERE device = '\" + device + \"' AND time >= '\" + begin +\n",
    "        \"' AND time <= '\" + end + \"'\", connection)\n",
    "\n",
    "    connection.close()\n",
    "    \n",
    "    return df"
   ]
  },
  {
   "cell_type": "code",
   "execution_count": 52,
   "id": "a3524b3a",
   "metadata": {},
   "outputs": [],
   "source": [
    "# use Secrets Manager to grab ALP credentials\n",
    "client = boto3.client('secretsmanager')\n",
    "response = client.get_secret_value(SecretId='alp-datasci')\n",
    "d = json.loads(response['SecretString'])"
   ]
  },
  {
   "cell_type": "code",
   "execution_count": 53,
   "id": "ea60f42a",
   "metadata": {},
   "outputs": [],
   "source": [
    "### get mark data from daily table\n",
    "device = 'C006338' \n",
    "dictionary = {\"C006338\": ['2022-07-15', '2022-07-20']}\n",
    "daily = get_data('daily', ' *', dictionary[device][0], dictionary[device][1], device) "
   ]
  },
  {
   "cell_type": "code",
   "execution_count": 54,
   "id": "adc932d2",
   "metadata": {},
   "outputs": [
    {
     "data": {
      "text/html": [
       "<div>\n",
       "<style scoped>\n",
       "    .dataframe tbody tr th:only-of-type {\n",
       "        vertical-align: middle;\n",
       "    }\n",
       "\n",
       "    .dataframe tbody tr th {\n",
       "        vertical-align: top;\n",
       "    }\n",
       "\n",
       "    .dataframe thead th {\n",
       "        text-align: right;\n",
       "    }\n",
       "</style>\n",
       "<table border=\"1\" class=\"dataframe\">\n",
       "  <thead>\n",
       "    <tr style=\"text-align: right;\">\n",
       "      <th></th>\n",
       "      <th>time</th>\n",
       "      <th>device</th>\n",
       "      <th>et</th>\n",
       "      <th>etc</th>\n",
       "      <th>slp</th>\n",
       "      <th>ea</th>\n",
       "    </tr>\n",
       "  </thead>\n",
       "  <tbody>\n",
       "    <tr>\n",
       "      <th>0</th>\n",
       "      <td>2022-07-15 00:00:00+00:00</td>\n",
       "      <td>C006338</td>\n",
       "      <td>0.0</td>\n",
       "      <td>0.0</td>\n",
       "      <td>None</td>\n",
       "      <td>2.264245</td>\n",
       "    </tr>\n",
       "    <tr>\n",
       "      <th>1</th>\n",
       "      <td>2022-07-16 00:00:00+00:00</td>\n",
       "      <td>C006338</td>\n",
       "      <td>0.0</td>\n",
       "      <td>0.0</td>\n",
       "      <td>None</td>\n",
       "      <td>2.260788</td>\n",
       "    </tr>\n",
       "    <tr>\n",
       "      <th>2</th>\n",
       "      <td>2022-07-17 00:00:00+00:00</td>\n",
       "      <td>C006338</td>\n",
       "      <td>0.0</td>\n",
       "      <td>0.0</td>\n",
       "      <td>None</td>\n",
       "      <td>2.425446</td>\n",
       "    </tr>\n",
       "    <tr>\n",
       "      <th>3</th>\n",
       "      <td>2022-07-18 00:00:00+00:00</td>\n",
       "      <td>C006338</td>\n",
       "      <td>0.0</td>\n",
       "      <td>0.0</td>\n",
       "      <td>None</td>\n",
       "      <td>2.988560</td>\n",
       "    </tr>\n",
       "    <tr>\n",
       "      <th>4</th>\n",
       "      <td>2022-07-19 00:00:00+00:00</td>\n",
       "      <td>C006338</td>\n",
       "      <td>0.0</td>\n",
       "      <td>0.0</td>\n",
       "      <td>None</td>\n",
       "      <td>2.640455</td>\n",
       "    </tr>\n",
       "    <tr>\n",
       "      <th>5</th>\n",
       "      <td>2022-07-20 00:00:00+00:00</td>\n",
       "      <td>C006338</td>\n",
       "      <td>0.0</td>\n",
       "      <td>0.0</td>\n",
       "      <td>None</td>\n",
       "      <td>1.992854</td>\n",
       "    </tr>\n",
       "  </tbody>\n",
       "</table>\n",
       "</div>"
      ],
      "text/plain": [
       "                       time   device   et  etc   slp        ea\n",
       "0 2022-07-15 00:00:00+00:00  C006338  0.0  0.0  None  2.264245\n",
       "1 2022-07-16 00:00:00+00:00  C006338  0.0  0.0  None  2.260788\n",
       "2 2022-07-17 00:00:00+00:00  C006338  0.0  0.0  None  2.425446\n",
       "3 2022-07-18 00:00:00+00:00  C006338  0.0  0.0  None  2.988560\n",
       "4 2022-07-19 00:00:00+00:00  C006338  0.0  0.0  None  2.640455\n",
       "5 2022-07-20 00:00:00+00:00  C006338  0.0  0.0  None  1.992854"
      ]
     },
     "execution_count": 54,
     "metadata": {},
     "output_type": "execute_result"
    }
   ],
   "source": [
    "daily[['time', 'device', 'et', 'etc', 'slp', 'ea']]"
   ]
  },
  {
   "cell_type": "code",
   "execution_count": 55,
   "id": "3c23e33b",
   "metadata": {},
   "outputs": [],
   "source": [
    "### get mark data from daily table\n",
    "device = 'C006338' \n",
    "dictionary = {\"C006338\": ['2022-07-15', '2022-07-20']}\n",
    "hourly = get_data('hourly', ' *', dictionary[device][0], dictionary[device][1], device) "
   ]
  },
  {
   "cell_type": "code",
   "execution_count": 56,
   "id": "43a1abc3",
   "metadata": {},
   "outputs": [
    {
     "data": {
      "text/html": [
       "<div>\n",
       "<style scoped>\n",
       "    .dataframe tbody tr th:only-of-type {\n",
       "        vertical-align: middle;\n",
       "    }\n",
       "\n",
       "    .dataframe tbody tr th {\n",
       "        vertical-align: top;\n",
       "    }\n",
       "\n",
       "    .dataframe thead th {\n",
       "        text-align: right;\n",
       "    }\n",
       "</style>\n",
       "<table border=\"1\" class=\"dataframe\">\n",
       "  <thead>\n",
       "    <tr style=\"text-align: right;\">\n",
       "      <th></th>\n",
       "      <th>time</th>\n",
       "      <th>device</th>\n",
       "      <th>et</th>\n",
       "      <th>etc</th>\n",
       "      <th>et_version</th>\n",
       "      <th>slp</th>\n",
       "      <th>ea</th>\n",
       "      <th>p</th>\n",
       "    </tr>\n",
       "  </thead>\n",
       "  <tbody>\n",
       "    <tr>\n",
       "      <th>0</th>\n",
       "      <td>2022-07-15 00:00:00+00:00</td>\n",
       "      <td>C006338</td>\n",
       "      <td>None</td>\n",
       "      <td>None</td>\n",
       "      <td>backup: penman-monteith</td>\n",
       "      <td>None</td>\n",
       "      <td>1.825037</td>\n",
       "      <td>None</td>\n",
       "    </tr>\n",
       "    <tr>\n",
       "      <th>1</th>\n",
       "      <td>2022-07-15 01:00:00+00:00</td>\n",
       "      <td>C006338</td>\n",
       "      <td>None</td>\n",
       "      <td>None</td>\n",
       "      <td>backup: penman-monteith</td>\n",
       "      <td>None</td>\n",
       "      <td>1.749421</td>\n",
       "      <td>None</td>\n",
       "    </tr>\n",
       "    <tr>\n",
       "      <th>2</th>\n",
       "      <td>2022-07-15 02:00:00+00:00</td>\n",
       "      <td>C006338</td>\n",
       "      <td>None</td>\n",
       "      <td>None</td>\n",
       "      <td>backup: penman-monteith</td>\n",
       "      <td>None</td>\n",
       "      <td>1.675367</td>\n",
       "      <td>None</td>\n",
       "    </tr>\n",
       "    <tr>\n",
       "      <th>3</th>\n",
       "      <td>2022-07-15 03:00:00+00:00</td>\n",
       "      <td>C006338</td>\n",
       "      <td>None</td>\n",
       "      <td>None</td>\n",
       "      <td>backup: penman-monteith</td>\n",
       "      <td>None</td>\n",
       "      <td>1.671145</td>\n",
       "      <td>None</td>\n",
       "    </tr>\n",
       "    <tr>\n",
       "      <th>4</th>\n",
       "      <td>2022-07-15 04:00:00+00:00</td>\n",
       "      <td>C006338</td>\n",
       "      <td>None</td>\n",
       "      <td>None</td>\n",
       "      <td>backup: penman-monteith</td>\n",
       "      <td>None</td>\n",
       "      <td>1.800045</td>\n",
       "      <td>None</td>\n",
       "    </tr>\n",
       "    <tr>\n",
       "      <th>...</th>\n",
       "      <td>...</td>\n",
       "      <td>...</td>\n",
       "      <td>...</td>\n",
       "      <td>...</td>\n",
       "      <td>...</td>\n",
       "      <td>...</td>\n",
       "      <td>...</td>\n",
       "      <td>...</td>\n",
       "    </tr>\n",
       "    <tr>\n",
       "      <th>116</th>\n",
       "      <td>2022-07-19 20:00:00+00:00</td>\n",
       "      <td>C006338</td>\n",
       "      <td>None</td>\n",
       "      <td>None</td>\n",
       "      <td>backup: penman-monteith</td>\n",
       "      <td>None</td>\n",
       "      <td>3.336493</td>\n",
       "      <td>None</td>\n",
       "    </tr>\n",
       "    <tr>\n",
       "      <th>117</th>\n",
       "      <td>2022-07-19 21:00:00+00:00</td>\n",
       "      <td>C006338</td>\n",
       "      <td>None</td>\n",
       "      <td>None</td>\n",
       "      <td>backup: penman-monteith</td>\n",
       "      <td>None</td>\n",
       "      <td>3.215144</td>\n",
       "      <td>None</td>\n",
       "    </tr>\n",
       "    <tr>\n",
       "      <th>118</th>\n",
       "      <td>2022-07-19 22:00:00+00:00</td>\n",
       "      <td>C006338</td>\n",
       "      <td>None</td>\n",
       "      <td>None</td>\n",
       "      <td>backup: penman-monteith</td>\n",
       "      <td>None</td>\n",
       "      <td>2.939506</td>\n",
       "      <td>None</td>\n",
       "    </tr>\n",
       "    <tr>\n",
       "      <th>119</th>\n",
       "      <td>2022-07-19 23:00:00+00:00</td>\n",
       "      <td>C006338</td>\n",
       "      <td>None</td>\n",
       "      <td>None</td>\n",
       "      <td>backup: penman-monteith</td>\n",
       "      <td>None</td>\n",
       "      <td>2.075920</td>\n",
       "      <td>None</td>\n",
       "    </tr>\n",
       "    <tr>\n",
       "      <th>120</th>\n",
       "      <td>2022-07-20 00:00:00+00:00</td>\n",
       "      <td>C006338</td>\n",
       "      <td>None</td>\n",
       "      <td>None</td>\n",
       "      <td>backup: penman-monteith</td>\n",
       "      <td>None</td>\n",
       "      <td>2.306184</td>\n",
       "      <td>None</td>\n",
       "    </tr>\n",
       "  </tbody>\n",
       "</table>\n",
       "<p>121 rows × 8 columns</p>\n",
       "</div>"
      ],
      "text/plain": [
       "                         time   device    et   etc               et_version  \\\n",
       "0   2022-07-15 00:00:00+00:00  C006338  None  None  backup: penman-monteith   \n",
       "1   2022-07-15 01:00:00+00:00  C006338  None  None  backup: penman-monteith   \n",
       "2   2022-07-15 02:00:00+00:00  C006338  None  None  backup: penman-monteith   \n",
       "3   2022-07-15 03:00:00+00:00  C006338  None  None  backup: penman-monteith   \n",
       "4   2022-07-15 04:00:00+00:00  C006338  None  None  backup: penman-monteith   \n",
       "..                        ...      ...   ...   ...                      ...   \n",
       "116 2022-07-19 20:00:00+00:00  C006338  None  None  backup: penman-monteith   \n",
       "117 2022-07-19 21:00:00+00:00  C006338  None  None  backup: penman-monteith   \n",
       "118 2022-07-19 22:00:00+00:00  C006338  None  None  backup: penman-monteith   \n",
       "119 2022-07-19 23:00:00+00:00  C006338  None  None  backup: penman-monteith   \n",
       "120 2022-07-20 00:00:00+00:00  C006338  None  None  backup: penman-monteith   \n",
       "\n",
       "      slp        ea     p  \n",
       "0    None  1.825037  None  \n",
       "1    None  1.749421  None  \n",
       "2    None  1.675367  None  \n",
       "3    None  1.671145  None  \n",
       "4    None  1.800045  None  \n",
       "..    ...       ...   ...  \n",
       "116  None  3.336493  None  \n",
       "117  None  3.215144  None  \n",
       "118  None  2.939506  None  \n",
       "119  None  2.075920  None  \n",
       "120  None  2.306184  None  \n",
       "\n",
       "[121 rows x 8 columns]"
      ]
     },
     "execution_count": 56,
     "metadata": {},
     "output_type": "execute_result"
    }
   ],
   "source": [
    "hourly[['time', 'device', 'et', 'etc', 'et_version','slp', 'ea', 'p']]"
   ]
  },
  {
   "cell_type": "code",
   "execution_count": 57,
   "id": "b3406add",
   "metadata": {},
   "outputs": [],
   "source": [
    "### get mark data from daily table\n",
    "device = 'C006447' \n",
    "dictionary = {\"C006447\": ['2022-07-01', '2022-07-25']}\n",
    "hourly = get_data('hourly', '*',dictionary[device][0], dictionary[device][1], device) "
   ]
  },
  {
   "cell_type": "code",
   "execution_count": 58,
   "id": "11ef233e",
   "metadata": {},
   "outputs": [
    {
     "data": {
      "text/html": [
       "<div>\n",
       "<style scoped>\n",
       "    .dataframe tbody tr th:only-of-type {\n",
       "        vertical-align: middle;\n",
       "    }\n",
       "\n",
       "    .dataframe tbody tr th {\n",
       "        vertical-align: top;\n",
       "    }\n",
       "\n",
       "    .dataframe thead th {\n",
       "        text-align: right;\n",
       "    }\n",
       "</style>\n",
       "<table border=\"1\" class=\"dataframe\">\n",
       "  <thead>\n",
       "    <tr style=\"text-align: right;\">\n",
       "      <th></th>\n",
       "      <th>time</th>\n",
       "      <th>device</th>\n",
       "      <th>location</th>\n",
       "      <th>b1dw</th>\n",
       "      <th>b1uw</th>\n",
       "      <th>b2dw</th>\n",
       "      <th>b2uw</th>\n",
       "      <th>b3dw</th>\n",
       "      <th>b3uw</th>\n",
       "      <th>b4dw</th>\n",
       "      <th>...</th>\n",
       "      <th>etc</th>\n",
       "      <th>et</th>\n",
       "      <th>rh_at_maxt</th>\n",
       "      <th>vpd</th>\n",
       "      <th>max_tdew</th>\n",
       "      <th>min_rh</th>\n",
       "      <th>low_quality</th>\n",
       "      <th>sample_pct</th>\n",
       "      <th>et_version</th>\n",
       "      <th>update_time</th>\n",
       "    </tr>\n",
       "  </thead>\n",
       "  <tbody>\n",
       "    <tr>\n",
       "      <th>0</th>\n",
       "      <td>2022-07-01 00:00:00+00:00</td>\n",
       "      <td>C006447</td>\n",
       "      <td>628f372abb297600100155e6</td>\n",
       "      <td>0.002754</td>\n",
       "      <td>0.002111</td>\n",
       "      <td>0.001272</td>\n",
       "      <td>0.000899</td>\n",
       "      <td>0.001885</td>\n",
       "      <td>0.001229</td>\n",
       "      <td>0.000845</td>\n",
       "      <td>...</td>\n",
       "      <td>0.003280</td>\n",
       "      <td>0.004333</td>\n",
       "      <td>0.6530</td>\n",
       "      <td>0.682993</td>\n",
       "      <td>11.870584</td>\n",
       "      <td>0.6514</td>\n",
       "      <td>True</td>\n",
       "      <td>0.92</td>\n",
       "      <td>20210128_1</td>\n",
       "      <td>2022-07-21 21:35:13+00</td>\n",
       "    </tr>\n",
       "    <tr>\n",
       "      <th>1</th>\n",
       "      <td>2022-07-01 01:00:00+00:00</td>\n",
       "      <td>C006447</td>\n",
       "      <td>628f372abb297600100155e6</td>\n",
       "      <td>0.002603</td>\n",
       "      <td>0.002097</td>\n",
       "      <td>0.001216</td>\n",
       "      <td>0.000902</td>\n",
       "      <td>0.001863</td>\n",
       "      <td>0.001243</td>\n",
       "      <td>0.000847</td>\n",
       "      <td>...</td>\n",
       "      <td>0.009462</td>\n",
       "      <td>0.012500</td>\n",
       "      <td>0.6935</td>\n",
       "      <td>0.592125</td>\n",
       "      <td>11.477190</td>\n",
       "      <td>0.6877</td>\n",
       "      <td>True</td>\n",
       "      <td>0.92</td>\n",
       "      <td>20210128_1</td>\n",
       "      <td>2022-07-21 21:35:18+00</td>\n",
       "    </tr>\n",
       "    <tr>\n",
       "      <th>2</th>\n",
       "      <td>2022-07-01 02:00:00+00:00</td>\n",
       "      <td>C006447</td>\n",
       "      <td>628f372abb297600100155e6</td>\n",
       "      <td>0.002610</td>\n",
       "      <td>0.001979</td>\n",
       "      <td>0.001226</td>\n",
       "      <td>0.000889</td>\n",
       "      <td>0.001874</td>\n",
       "      <td>0.001195</td>\n",
       "      <td>0.000839</td>\n",
       "      <td>...</td>\n",
       "      <td>0.004794</td>\n",
       "      <td>0.006333</td>\n",
       "      <td>0.7090</td>\n",
       "      <td>0.503244</td>\n",
       "      <td>11.313962</td>\n",
       "      <td>0.7078</td>\n",
       "      <td>True</td>\n",
       "      <td>0.92</td>\n",
       "      <td>20210128_1</td>\n",
       "      <td>2022-07-21 21:35:23+00</td>\n",
       "    </tr>\n",
       "    <tr>\n",
       "      <th>3</th>\n",
       "      <td>2022-07-01 03:00:00+00:00</td>\n",
       "      <td>C006447</td>\n",
       "      <td>628f372abb297600100155e6</td>\n",
       "      <td>0.002781</td>\n",
       "      <td>0.002111</td>\n",
       "      <td>0.001190</td>\n",
       "      <td>0.000852</td>\n",
       "      <td>0.001744</td>\n",
       "      <td>0.001122</td>\n",
       "      <td>0.000805</td>\n",
       "      <td>...</td>\n",
       "      <td>0.001514</td>\n",
       "      <td>0.002000</td>\n",
       "      <td>0.7215</td>\n",
       "      <td>0.443819</td>\n",
       "      <td>11.376325</td>\n",
       "      <td>0.7215</td>\n",
       "      <td>True</td>\n",
       "      <td>1.00</td>\n",
       "      <td>20210128_1</td>\n",
       "      <td>2022-07-21 21:35:28+00</td>\n",
       "    </tr>\n",
       "    <tr>\n",
       "      <th>4</th>\n",
       "      <td>2022-07-01 04:00:00+00:00</td>\n",
       "      <td>C006447</td>\n",
       "      <td>628f372abb297600100155e6</td>\n",
       "      <td>0.002552</td>\n",
       "      <td>0.001996</td>\n",
       "      <td>0.001330</td>\n",
       "      <td>0.000798</td>\n",
       "      <td>0.001770</td>\n",
       "      <td>0.001100</td>\n",
       "      <td>0.000902</td>\n",
       "      <td>...</td>\n",
       "      <td>0.000757</td>\n",
       "      <td>0.001000</td>\n",
       "      <td>0.7747</td>\n",
       "      <td>0.330525</td>\n",
       "      <td>10.787928</td>\n",
       "      <td>0.7729</td>\n",
       "      <td>True</td>\n",
       "      <td>1.00</td>\n",
       "      <td>20210128_1</td>\n",
       "      <td>2022-07-21 21:35:32+00</td>\n",
       "    </tr>\n",
       "    <tr>\n",
       "      <th>...</th>\n",
       "      <td>...</td>\n",
       "      <td>...</td>\n",
       "      <td>...</td>\n",
       "      <td>...</td>\n",
       "      <td>...</td>\n",
       "      <td>...</td>\n",
       "      <td>...</td>\n",
       "      <td>...</td>\n",
       "      <td>...</td>\n",
       "      <td>...</td>\n",
       "      <td>...</td>\n",
       "      <td>...</td>\n",
       "      <td>...</td>\n",
       "      <td>...</td>\n",
       "      <td>...</td>\n",
       "      <td>...</td>\n",
       "      <td>...</td>\n",
       "      <td>...</td>\n",
       "      <td>...</td>\n",
       "      <td>...</td>\n",
       "      <td>...</td>\n",
       "    </tr>\n",
       "    <tr>\n",
       "      <th>549</th>\n",
       "      <td>2022-07-23 21:00:00+00:00</td>\n",
       "      <td>C006447</td>\n",
       "      <td>628f372abb297600100155e6</td>\n",
       "      <td>0.003420</td>\n",
       "      <td>0.002374</td>\n",
       "      <td>0.001542</td>\n",
       "      <td>0.000957</td>\n",
       "      <td>0.002265</td>\n",
       "      <td>0.001450</td>\n",
       "      <td>0.000991</td>\n",
       "      <td>...</td>\n",
       "      <td>0.013305</td>\n",
       "      <td>0.023833</td>\n",
       "      <td>0.3465</td>\n",
       "      <td>2.391043</td>\n",
       "      <td>12.169992</td>\n",
       "      <td>0.3346</td>\n",
       "      <td>True</td>\n",
       "      <td>1.00</td>\n",
       "      <td>20210128_1</td>\n",
       "      <td>2022-07-23 22:06:55+00</td>\n",
       "    </tr>\n",
       "    <tr>\n",
       "      <th>550</th>\n",
       "      <td>2022-07-23 22:00:00+00:00</td>\n",
       "      <td>C006447</td>\n",
       "      <td>628f372abb297600100155e6</td>\n",
       "      <td>0.003378</td>\n",
       "      <td>0.002306</td>\n",
       "      <td>0.001533</td>\n",
       "      <td>0.000994</td>\n",
       "      <td>0.002244</td>\n",
       "      <td>0.001415</td>\n",
       "      <td>0.000944</td>\n",
       "      <td>...</td>\n",
       "      <td>0.022284</td>\n",
       "      <td>0.039917</td>\n",
       "      <td>0.3749</td>\n",
       "      <td>1.999695</td>\n",
       "      <td>11.448664</td>\n",
       "      <td>0.3749</td>\n",
       "      <td>True</td>\n",
       "      <td>1.00</td>\n",
       "      <td>20210128_1</td>\n",
       "      <td>2022-07-23 23:06:34+00</td>\n",
       "    </tr>\n",
       "    <tr>\n",
       "      <th>551</th>\n",
       "      <td>2022-07-23 23:00:00+00:00</td>\n",
       "      <td>C006447</td>\n",
       "      <td>628f372abb297600100155e6</td>\n",
       "      <td>0.003284</td>\n",
       "      <td>0.002339</td>\n",
       "      <td>0.001500</td>\n",
       "      <td>0.000917</td>\n",
       "      <td>0.002234</td>\n",
       "      <td>0.001487</td>\n",
       "      <td>0.000958</td>\n",
       "      <td>...</td>\n",
       "      <td>0.007211</td>\n",
       "      <td>0.012917</td>\n",
       "      <td>0.4113</td>\n",
       "      <td>1.919314</td>\n",
       "      <td>11.842473</td>\n",
       "      <td>0.4046</td>\n",
       "      <td>True</td>\n",
       "      <td>0.92</td>\n",
       "      <td>20210128_1</td>\n",
       "      <td>2022-07-24 01:07:57+00</td>\n",
       "    </tr>\n",
       "    <tr>\n",
       "      <th>552</th>\n",
       "      <td>2022-07-24 00:00:00+00:00</td>\n",
       "      <td>C006447</td>\n",
       "      <td>628f372abb297600100155e6</td>\n",
       "      <td>0.003412</td>\n",
       "      <td>0.002273</td>\n",
       "      <td>0.001457</td>\n",
       "      <td>0.000914</td>\n",
       "      <td>0.002234</td>\n",
       "      <td>0.001354</td>\n",
       "      <td>0.000937</td>\n",
       "      <td>...</td>\n",
       "      <td>0.015504</td>\n",
       "      <td>0.028250</td>\n",
       "      <td>0.4146</td>\n",
       "      <td>1.695810</td>\n",
       "      <td>12.162255</td>\n",
       "      <td>0.4146</td>\n",
       "      <td>True</td>\n",
       "      <td>1.00</td>\n",
       "      <td>20210128_1</td>\n",
       "      <td>2022-07-24 01:08:03+00</td>\n",
       "    </tr>\n",
       "    <tr>\n",
       "      <th>553</th>\n",
       "      <td>2022-07-24 01:00:00+00:00</td>\n",
       "      <td>C006447</td>\n",
       "      <td>628f372abb297600100155e6</td>\n",
       "      <td>0.003080</td>\n",
       "      <td>0.002064</td>\n",
       "      <td>0.001345</td>\n",
       "      <td>0.000985</td>\n",
       "      <td>0.002043</td>\n",
       "      <td>0.001315</td>\n",
       "      <td>0.000878</td>\n",
       "      <td>...</td>\n",
       "      <td>0.029361</td>\n",
       "      <td>0.053500</td>\n",
       "      <td>0.4866</td>\n",
       "      <td>1.453500</td>\n",
       "      <td>11.953079</td>\n",
       "      <td>0.4866</td>\n",
       "      <td>True</td>\n",
       "      <td>0.17</td>\n",
       "      <td>20210128_1</td>\n",
       "      <td>2022-07-24 01:08:23+00</td>\n",
       "    </tr>\n",
       "  </tbody>\n",
       "</table>\n",
       "<p>554 rows × 58 columns</p>\n",
       "</div>"
      ],
      "text/plain": [
       "                         time   device                  location      b1dw  \\\n",
       "0   2022-07-01 00:00:00+00:00  C006447  628f372abb297600100155e6  0.002754   \n",
       "1   2022-07-01 01:00:00+00:00  C006447  628f372abb297600100155e6  0.002603   \n",
       "2   2022-07-01 02:00:00+00:00  C006447  628f372abb297600100155e6  0.002610   \n",
       "3   2022-07-01 03:00:00+00:00  C006447  628f372abb297600100155e6  0.002781   \n",
       "4   2022-07-01 04:00:00+00:00  C006447  628f372abb297600100155e6  0.002552   \n",
       "..                        ...      ...                       ...       ...   \n",
       "549 2022-07-23 21:00:00+00:00  C006447  628f372abb297600100155e6  0.003420   \n",
       "550 2022-07-23 22:00:00+00:00  C006447  628f372abb297600100155e6  0.003378   \n",
       "551 2022-07-23 23:00:00+00:00  C006447  628f372abb297600100155e6  0.003284   \n",
       "552 2022-07-24 00:00:00+00:00  C006447  628f372abb297600100155e6  0.003412   \n",
       "553 2022-07-24 01:00:00+00:00  C006447  628f372abb297600100155e6  0.003080   \n",
       "\n",
       "         b1uw      b2dw      b2uw      b3dw      b3uw      b4dw  ...  \\\n",
       "0    0.002111  0.001272  0.000899  0.001885  0.001229  0.000845  ...   \n",
       "1    0.002097  0.001216  0.000902  0.001863  0.001243  0.000847  ...   \n",
       "2    0.001979  0.001226  0.000889  0.001874  0.001195  0.000839  ...   \n",
       "3    0.002111  0.001190  0.000852  0.001744  0.001122  0.000805  ...   \n",
       "4    0.001996  0.001330  0.000798  0.001770  0.001100  0.000902  ...   \n",
       "..        ...       ...       ...       ...       ...       ...  ...   \n",
       "549  0.002374  0.001542  0.000957  0.002265  0.001450  0.000991  ...   \n",
       "550  0.002306  0.001533  0.000994  0.002244  0.001415  0.000944  ...   \n",
       "551  0.002339  0.001500  0.000917  0.002234  0.001487  0.000958  ...   \n",
       "552  0.002273  0.001457  0.000914  0.002234  0.001354  0.000937  ...   \n",
       "553  0.002064  0.001345  0.000985  0.002043  0.001315  0.000878  ...   \n",
       "\n",
       "          etc        et  rh_at_maxt       vpd   max_tdew  min_rh  low_quality  \\\n",
       "0    0.003280  0.004333      0.6530  0.682993  11.870584  0.6514         True   \n",
       "1    0.009462  0.012500      0.6935  0.592125  11.477190  0.6877         True   \n",
       "2    0.004794  0.006333      0.7090  0.503244  11.313962  0.7078         True   \n",
       "3    0.001514  0.002000      0.7215  0.443819  11.376325  0.7215         True   \n",
       "4    0.000757  0.001000      0.7747  0.330525  10.787928  0.7729         True   \n",
       "..        ...       ...         ...       ...        ...     ...          ...   \n",
       "549  0.013305  0.023833      0.3465  2.391043  12.169992  0.3346         True   \n",
       "550  0.022284  0.039917      0.3749  1.999695  11.448664  0.3749         True   \n",
       "551  0.007211  0.012917      0.4113  1.919314  11.842473  0.4046         True   \n",
       "552  0.015504  0.028250      0.4146  1.695810  12.162255  0.4146         True   \n",
       "553  0.029361  0.053500      0.4866  1.453500  11.953079  0.4866         True   \n",
       "\n",
       "    sample_pct  et_version             update_time  \n",
       "0         0.92  20210128_1  2022-07-21 21:35:13+00  \n",
       "1         0.92  20210128_1  2022-07-21 21:35:18+00  \n",
       "2         0.92  20210128_1  2022-07-21 21:35:23+00  \n",
       "3         1.00  20210128_1  2022-07-21 21:35:28+00  \n",
       "4         1.00  20210128_1  2022-07-21 21:35:32+00  \n",
       "..         ...         ...                     ...  \n",
       "549       1.00  20210128_1  2022-07-23 22:06:55+00  \n",
       "550       1.00  20210128_1  2022-07-23 23:06:34+00  \n",
       "551       0.92  20210128_1  2022-07-24 01:07:57+00  \n",
       "552       1.00  20210128_1  2022-07-24 01:08:03+00  \n",
       "553       0.17  20210128_1  2022-07-24 01:08:23+00  \n",
       "\n",
       "[554 rows x 58 columns]"
      ]
     },
     "execution_count": 58,
     "metadata": {},
     "output_type": "execute_result"
    }
   ],
   "source": [
    "hourly"
   ]
  },
  {
   "cell_type": "code",
   "execution_count": 95,
   "id": "26cb9dc7",
   "metadata": {},
   "outputs": [],
   "source": [
    "# stuff for ET\n",
    "\n",
    "SUN = 1367.0  # Solar Constant W/m2\n",
    "SBC = 5.67e-8  # Stefan-Boltzman Const\n",
    "seconds_per_day = 86400.\n",
    "# below was taken from adam - don't know what it is\n",
    "eot = np.array([\n",
    "-3.4, -3.9, -4.4, -4.8, -5.3, -5.7, -6.2, -6.6, -7.0, -7.4, -7.8, -8.2, -8.6, -8.9, -9.3, -9.7, -10.0, -10.3, -10.6, -10.9, -11.2, -11.5, -11.8, -12.0, -12.2, -12.5, -12.7, -12.9, -13.1, -13.2, -13.4, -13.5, -13.7, -13.8, -13.9, -14.0, -14.0, -14.1, -14.1, -14.2, -14.2, -14.2, -14.2, -14.2, -14.2, -14.1, -14.1, -14.0, -13.9, -13.8, -13.7, -13.6, -13.5, -13.4, -13.2, -13.1, -12.9, -12.7, -12.6, -12.4, -12.2, -12.0, -11.8, -11.5, -11.3, -11.1, -10.8, -10.6, -10.3, -10.1, -9.8, -9.5, -9.3, -9.0, -8.7, -8.4, -8.1, -7.8, -7.5, -7.2, -6.9, -6.6, -6.3, -6.0, -5.7, -5.4, -5.1, -4.8, -4.5, -4.2, -3.9, -3.7, -3.4, -3.1, -2.8, -2.5, -2.2, -1.9, -1.7, -1.4, -1.1, -0.8, -0.6, -0.3, -0.1, 0.1, 0.4, 0.6, 0.8, 1.0, 1.3, 1.5, 1.6, 1.8, 2.0, 2.2, 2.3, 2.5, 2.6, 2.8, 2.9, 3.0, 3.1, 3.2, 3.3, 3.4, 3.4, 3.5, 3.6, 3.6, 3.6, 3.7, 3.7, 3.7, 3.7, 3.7, 3.6, 3.6, 3.6, 3.5, 3.4, 3.4, 3.3, 3.2, 3.1, 3.0, 2.9, 2.8, 2.6, 2.5, 2.4, 2.2, 2.1, 1.9, 1.7, 1.6, 1.4, 1.2, 1.0, 0.8, 0.6, 0.4, 0.2, 0.0, -0.2, -0.4, -0.6, -0.8, -1.1, -1.3, -1.5, -1.7, -1.9, -2.1, -2.4, -2.6, -2.8, -3.0, -3.2, -3.4, -3.6, -3.8, -4.0, -4.2, -4.4, -4.5, -4.7, -4.9, -5.0, -5.2, -5.3, -5.5, -5.6, -5.7, -5.8, -5.9, -6.0, -6.1, -6.2, -6.3, -6.3, -6.4, -6.4, -6.5, -6.5, -6.5, -6.5, -6.5, -6.5, -6.5, -6.5, -6.4, -6.4, -6.3, -6.2, -6.1, -6.0, -5.9, -5.8, -5.7, -5.5, -5.4, -5.2, -5.1, -4.9, -4.7, -4.5, -4.3, -4.1, -3.9, -3.7, -3.4, -3.2, -3.0, -2.7, -2.4, -2.2, -1.9, -1.6, -1.3, -1.0, -0.7, -0.4, -0.1, 0.2, 0.6, 0.9, 1.2, 1.6, 1.9, 2.2, 2.6, 2.9, 3.3, 3.6, 4.0, 4.3, 4.7, 5.1, 5.4, 5.8, 6.1, 6.5, 6.8, 7.2, 7.5, 7.9, 8.2, 8.6, 8.9, 9.3, 9.6, 9.9, 10.2, 10.6, 10.9, 11.2, 11.5, 11.8, 12.1, 12.4, 12.7, 12.9, 13.2, 13.5, 13.7, 13.9, 14.2, 14.4, 14.6, 14.8, 15.0, 15.2, 15.3, 15.5, 15.6, 15.8, 15.9, 16.0, 16.1, 16.2, 16.3, 16.3, 16.4, 16.4, 16.4, 16.4, 16.4, 16.4, 16.4, 16.3, 16.3, 16.2, 16.1, 16.0, 15.9, 15.8, 15.6, 15.5, 15.3, 15.1, 14.9, 14.7, 14.4, 14.2, 13.9, 13.7, 13.4, 13.1, 12.8, 12.5, 12.1, 11.8, 11.4, 11.1, 10.7, 10.3, 9.9, 9.5, 9.1, 8.7, 8.2, 7.8, 7.4, 6.9, 6.4, 6.0, 5.5, 5.0, 4.5, 4.0, 3.6, 3.1, 2.6, 2.1, 1.6, 1.1, 0.6, 0.1, -0.4, -0.9, -1.4, -1.9, -2.4, -2.9, -3.1  # NOQA\n",
    "])\n",
    "\n",
    "\n",
    "def esat_(xT):  # pragma: no cover\n",
    "    \"\"\" saturation vapor pressure: kPa\n",
    "        return 0.611*exp(17.27*xT/(xT+237)) # Monteith formulation\n",
    "    :param xT:\n",
    "    :return:\n",
    "    \"\"\"\n",
    "    return (617.4 + 42.22 * xT + 1.675 * xT ** 2 + 0.01408 * xT ** 3 +\n",
    "            0.0005818 * xT ** 4) / 1000  # Paw U formulation\n",
    "\n",
    "\n",
    "def ea_(xT, xRH):  # pragma: no cover\n",
    "    \"\"\" vapor pressure: kPa\n",
    "    :param xT:\n",
    "    :param xRH:\n",
    "    :return:\n",
    "    \"\"\"\n",
    "    return esat_(xT) * xRH\n",
    "\n",
    "\n",
    "def VPD_(xT, xRH):  # pragma: no cover\n",
    "    \"\"\" vapor pressure deficit: kPa\n",
    "    :param xT:\n",
    "    :param xRH:\n",
    "    :return:\n",
    "    \"\"\"\n",
    "    return esat_(xT) * (1.0 - xRH)\n",
    "\n",
    "\n",
    "def solar_utc_offset_(xDatetime, xLon):  # pragma: no cover\n",
    "    \"\"\" difference between solar time and utc time, in fractions of a day\n",
    "    :param xDatetime:\n",
    "    :param xLon:\n",
    "    :return:\n",
    "    \"\"\"\n",
    "\n",
    "    dayfrac = ((xDatetime.dt.hour) * 3600. + (xDatetime.dt.minute) * 60 + xDatetime.dt.second) / seconds_per_day\n",
    "    # fractions of day, ranging from -0.5 to +0.5\n",
    "    solar_utc_offset = xLon / 360.0 + eot[xDatetime.dt.dayofyear - 1] / 1440.\n",
    "\n",
    "    return dayfrac + solar_utc_offset\n",
    "\n",
    "\n",
    "def solar_theta_(xDatetime, xLon):  # pragma: no cover\n",
    "    \"\"\" hour angle, the fraction of a full rotation has turned after local solar noon\n",
    "        cos(theta) is 1 at solar noon\n",
    "    :param xDatetime:\n",
    "    :param xLon:\n",
    "    :return:\n",
    "    \"\"\"\n",
    "\n",
    "    solar_utc_offset = solar_utc_offset_(xDatetime, xLon) - 0.5\n",
    "\n",
    "    theta0 = (solar_utc_offset - 1)*(solar_utc_offset >= 1)\n",
    "    theta1 = solar_utc_offset*((solar_utc_offset >= 0) & (solar_utc_offset < 1))\n",
    "    theta2 = (solar_utc_offset + 1)*(solar_utc_offset < 0)\n",
    "    theta = theta0 + theta1 + theta2\n",
    "\n",
    "    return 2 * pi * theta\n",
    "\n",
    "\n",
    "def solar_delta_(xDatetime, xLon):  # pragma: no cover\n",
    "    \"\"\" declination angle, varying over the year\n",
    "    :param xDatetime:\n",
    "    :return:\n",
    "    \"\"\"\n",
    "    tropic = 23.45 * pi / 180.0\n",
    "    leap = (xDatetime.dt.year % 4 == 0) | (xDatetime.dt.year % 100 == 0)\n",
    "    yearl = 365. + leap\n",
    "    equinox = 173. + leap\n",
    "    solar_utc_offset = solar_utc_offset_(xDatetime, xLon)\n",
    "    fdoy = (xDatetime.dt.dayofyear - equinox + solar_utc_offset) / yearl  # fractions of year\n",
    "    return tropic * cos(2.0 * pi * fdoy)\n",
    "\n",
    "\n",
    "def solar_phi_(xLat):  # pragma: no cover\n",
    "    \"\"\" Latitude in radians pi/2 at the poles, 0 at the equator\n",
    "    :param xLat - Latitude (decimal degree):\n",
    "    :return:\n",
    "    \"\"\"\n",
    "    return xLat * pi / 180.0\n",
    "\n",
    "\n",
    "def solar_psi_(xDatetime, xLat, xLon):  # pragma: no cover\n",
    "    \"\"\" solar zenith angle (0 overhead, pi/2 at horizon)\n",
    "        typically, allowed to go 9 deg below the horizon\n",
    "    :param xDatetime:\n",
    "    :param xLat:\n",
    "    :param xLon:\n",
    "    :return:\n",
    "    \"\"\"\n",
    "    phi = solar_phi_(xLat)\n",
    "    delta = solar_delta_(xDatetime, xLon)\n",
    "    theta = solar_theta_(xDatetime, xLon)\n",
    "    psi = arccos(sin(phi) * sin(delta) + cos(phi) * cos(delta) * cos(theta))\n",
    "    return psi\n",
    "\n",
    "\n",
    "def SWP_(xDatetime, xLat, xLon):\n",
    "\n",
    "    psi = solar_psi_(xDatetime, xLat, xLon)\n",
    "    # etrn = SUN * erv_(xDatetime)  # this is not used while ERV is not tested\n",
    "    etr0 = 0 * (cos(psi) < 0)\n",
    "    etr1 = SUN * cos(psi) * (cos(psi) >= 0)\n",
    "\n",
    "    return etr0 + etr1\n",
    "\n",
    "def Tk_(xT):  # pragma: no cover\n",
    "    \"\"\"\n",
    "    :param xT:\n",
    "    :return:\n",
    "    \"\"\"\n",
    "    return xT + 273.2\n",
    "\n",
    "\n",
    "def Rn_Dong92(df):\n",
    "    \"\"\"\n",
    "    Calculate net radiation (Rn) (Dong et al., 1992)\n",
    "    \"\"\"\n",
    "    \n",
    "    # Temperatures\n",
    "    Tk = Tk_(df.tair)\n",
    "    To = Tk_(df.tair)  # clear sky temp\n",
    "    Tc = Tk_(df.tair)  # cloud top temp\n",
    "    Ts = Tk_(df.tair)  # surface temp; per Dong p472 set to air temp at 1.5m\n",
    "\n",
    "    sza = solar_psi_(df.time, df.lat, df.long)\n",
    "    theta = 90. - sza * 180. / np.pi  # solar altitude in degrees, cf Dong eqn 15\n",
    "\n",
    "    # Irradiance, Dong eqn 5\n",
    "    I = df.swp\n",
    "\n",
    "    # use our swdw/swuw\n",
    "    alpha = (-1.0 * df.swuw) / df.swdw\n",
    "    alpha = alpha.clip(0, 0.5)\n",
    "\n",
    "    # emissivity\n",
    "    epss = 0.98  # surface emissivity. Dong assumes 0.98, but CIMIS uses 1.\n",
    "\n",
    "    # clear sky emissivity, Dong eqn 10\n",
    "    # ea is in mbar in this eqn\n",
    "    epso = 1.08 * (1.0 - np.exp(-(df.ea * 10.) ** (Tk/2016.)))\n",
    "\n",
    "    # fraction of cloud cover\n",
    "    Ra = (0.79 - 3.75 / theta) * I\n",
    "    Ra[theta < 10] = (0.79 - 3.75 / 10.) * I  # handles low zenith angles\n",
    "    ratio = df.swdw / Ra\n",
    "    ratio[ratio > 2] = np.nan\n",
    "    ratio = ratio.clip(0, 1)\n",
    "    c = (1.333 - 1.333 * (ratio)) ** 0.294\n",
    "    c = np.clip(c, 0, 1)\n",
    "\n",
    "    # Rn, equation 19 p 477\n",
    "    E = 0.89\n",
    "    # fix parenthesis error\n",
    "    Rn = E * ((1-alpha) * df.swdw + epso * (1.-c) * SBC * (To ** 4) + c * SBC * (Tc ** 4) - epss * SBC * (Ts ** 4))\n",
    "\n",
    "    return Rn\n",
    "\n",
    "\n",
    "def calc_eto_mm_5min(df):\n",
    "    \"\"\"\n",
    "    method to calculate crop ET (ETc) using the FAO Penman-Monteith\n",
    "    equation that integrates NDVI derived crop coefficient measured\n",
    "    by spectrometer.\n",
    "    validated against Woodland and Esparto CIMIS stations May, 2017\n",
    "    :param df: data frame of 5min data\n",
    "    :return: ETo 5min (mm/5min)\n",
    "    \"\"\"\n",
    "\n",
    "    # check for missing values\n",
    "    if not pd.Series(['time', 'lat', 'long', 'swp', 'ea', 'vpd', 'swdw', 'swuw', 'tair', 'p']).isin(df).all():\n",
    "        return np.nan\n",
    "    \n",
    "    u = 2 # default wind speed recommended by Rick Allen (m/s)\n",
    "\n",
    "    # use Dong version of net radiation\n",
    "    rn = Rn_Dong92(df) * 300 / 1000000  # Net radiation (MJ m-2 5min-1)  # NOQA\n",
    "\n",
    "    gamma = 0.000665 * df.p  # psychrometric constant (kPa C-1)\n",
    "    # delta = slope of saturation vapor pressure curve\n",
    "    # the seemingly extraneous parens are necessary...do not remove\n",
    "    delta = 4098 * (0.6108 * np.exp((17.27 * df.tair) / (df.tair + 237.3)) / ((df.tair + 237.3) ** 2))  # NOQA\n",
    "\n",
    "    eto_mm_5min = ((0.408 * delta * rn) + (\n",
    "        gamma * (3.125 / (df.tair + 273)) * u * df.vpd)) / (\n",
    "            delta + (gamma * (1 + 0.34 * u)))  # mm/5min\n",
    "\n",
    "    # do NOT clip to 0 based on Adam's recommendation\n",
    "    return eto_mm_5min"
   ]
  },
  {
   "cell_type": "code",
   "execution_count": null,
   "id": "ca1bf0e4",
   "metadata": {},
   "outputs": [],
   "source": []
  },
  {
   "cell_type": "code",
   "execution_count": 86,
   "id": "afabfb31",
   "metadata": {},
   "outputs": [],
   "source": [
    "#mark_5min[['time', 'lat', 'long', 'swp', 'ea', 'vpd', 'swdw', 'swuw', 'tair', 'p']]\n",
    "\n"
   ]
  },
  {
   "cell_type": "code",
   "execution_count": 96,
   "id": "55295efc",
   "metadata": {},
   "outputs": [
    {
     "data": {
      "text/plain": [
       "0        2\n",
       "1        2\n",
       "2        2\n",
       "3        2\n",
       "4        2\n",
       "        ..\n",
       "32195    2\n",
       "32196    2\n",
       "32197    2\n",
       "32198    2\n",
       "32199    2\n",
       "Name: wind_speed, Length: 32200, dtype: int64"
      ]
     },
     "execution_count": 96,
     "metadata": {},
     "output_type": "execute_result"
    }
   ],
   "source": [
    "#Calculate required but missing features (swp, ea, vpd) using functions\n",
    "\n",
    "mark_5min['swp'] = SWP_(mark_5min['time'], mark_5min['lat'],mark_5min['long'])\n",
    "mark_5min['ea'] =  ea_(mark_5min['tair'],mark_5min['rh'] )\n",
    "mark_5min['vpd'] = VPD_(mark_5min['tair'],mark_5min['rh'] )\n",
    "mark_5min['wind_speed'] = 2\n",
    "mark_5min['wind_speed']"
   ]
  },
  {
   "cell_type": "code",
   "execution_count": 97,
   "id": "b892cae7",
   "metadata": {},
   "outputs": [],
   "source": [
    "mark_5min['et']= calc_eto_mm_5min(mark_5min )"
   ]
  },
  {
   "cell_type": "code",
   "execution_count": 98,
   "id": "ff60286c",
   "metadata": {},
   "outputs": [
    {
     "data": {
      "text/plain": [
       "0       NaN\n",
       "1       NaN\n",
       "2       NaN\n",
       "3       NaN\n",
       "4       NaN\n",
       "         ..\n",
       "32195   NaN\n",
       "32196   NaN\n",
       "32197   NaN\n",
       "32198   NaN\n",
       "32199   NaN\n",
       "Name: et, Length: 32200, dtype: float64"
      ]
     },
     "execution_count": 98,
     "metadata": {},
     "output_type": "execute_result"
    }
   ],
   "source": [
    "mark_5min['et']"
   ]
  },
  {
   "cell_type": "code",
   "execution_count": null,
   "id": "cf1f53f1",
   "metadata": {},
   "outputs": [],
   "source": []
  },
  {
   "cell_type": "code",
   "execution_count": null,
   "id": "400cf699",
   "metadata": {},
   "outputs": [],
   "source": []
  },
  {
   "cell_type": "code",
   "execution_count": null,
   "id": "55e58d76",
   "metadata": {},
   "outputs": [],
   "source": []
  },
  {
   "cell_type": "code",
   "execution_count": null,
   "id": "4f76e955",
   "metadata": {},
   "outputs": [],
   "source": []
  },
  {
   "cell_type": "code",
   "execution_count": null,
   "id": "f6cbe2ca",
   "metadata": {},
   "outputs": [],
   "source": []
  },
  {
   "cell_type": "code",
   "execution_count": null,
   "id": "4f6ec0d0",
   "metadata": {},
   "outputs": [],
   "source": []
  },
  {
   "cell_type": "code",
   "execution_count": null,
   "id": "7f670545",
   "metadata": {},
   "outputs": [],
   "source": []
  },
  {
   "cell_type": "code",
   "execution_count": null,
   "id": "2fa8ded7",
   "metadata": {},
   "outputs": [],
   "source": []
  },
  {
   "cell_type": "code",
   "execution_count": null,
   "id": "3089bc19",
   "metadata": {},
   "outputs": [],
   "source": []
  }
 ],
 "metadata": {
  "kernelspec": {
   "display_name": "conda_python3",
   "language": "python",
   "name": "conda_python3"
  },
  "language_info": {
   "codemirror_mode": {
    "name": "ipython",
    "version": 3
   },
   "file_extension": ".py",
   "mimetype": "text/x-python",
   "name": "python",
   "nbconvert_exporter": "python",
   "pygments_lexer": "ipython3",
   "version": "3.6.13"
  }
 },
 "nbformat": 4,
 "nbformat_minor": 5
}
